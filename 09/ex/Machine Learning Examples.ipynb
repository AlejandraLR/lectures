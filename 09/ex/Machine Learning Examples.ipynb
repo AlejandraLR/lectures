{
 "cells": [
  {
   "cell_type": "code",
   "execution_count": null,
   "metadata": {
    "collapsed": false
   },
   "outputs": [],
   "source": [
    "import numpy as np\n",
    "import matplotlib.pyplot as plt\n",
    "\n",
    "from sklearn import tree, neural_network, neighbors, discriminant_analysis\n",
    "\n",
    "%matplotlib inline\n",
    "plt.rcParams['figure.figsize'] = (4, 4) # set default size of plots\n",
    "plt.rcParams['image.interpolation'] = 'nearest'\n",
    "plt.rcParams['image.cmap'] = 'gray'\n",
    "\n",
    "# for auto-reloading extenrnal modules\n",
    "# see http://stackoverflow.com/questions/1907993/autoreload-of-modules-in-ipython\n",
    "%load_ext autoreload\n",
    "%autoreload 2"
   ]
  },
  {
   "cell_type": "markdown",
   "metadata": {},
   "source": [
    "## Discrimination in a Single Dimension"
   ]
  },
  {
   "cell_type": "markdown",
   "metadata": {},
   "source": [
    "### 1D Gaussian Discriminant "
   ]
  },
  {
   "cell_type": "code",
   "execution_count": null,
   "metadata": {
    "collapsed": false
   },
   "outputs": [],
   "source": [
    "figure = plt.figure()\n",
    "ax = plt.gca()\n",
    "\n",
    "a = np.random.normal(loc = -1, scale = 2, size = 10000)\n",
    "b = np.random.normal(loc = 3, scale = 1, size = 10000)\n",
    "\n",
    "r = np.min([a.min(), b.min()]), np.max([a.max(), b.max()])\n",
    "\n",
    "plt.hist([a, b], bins=30, range=r, histtype = 'step', color = [\"b\", \"r\"], label = [\"Category 1\", \"Category 2\"], alpha = 1.0)\n",
    "plt.legend(loc = \"upper left\", frameon=False)\n",
    "\n",
    "ax.set_xlabel(\"Gaussian Discriminants\")\n",
    "figure.savefig('gaus_discr.pdf', bbox_inches='tight', pad_inches=0.1)\n",
    "plt.show()"
   ]
  },
  {
   "cell_type": "markdown",
   "metadata": {},
   "source": [
    "### ROC Curve"
   ]
  },
  {
   "cell_type": "code",
   "execution_count": null,
   "metadata": {
    "collapsed": false
   },
   "outputs": [],
   "source": [
    "cut = np.linspace(-6, 6, 500)\n",
    "eff = np.array([np.mean(a < c) for c in cut])\n",
    "rej = np.array([np.mean(b > c) for c in cut])\n",
    "\n",
    "figure = plt.figure()\n",
    "ax = plt.gca()\n",
    "\n",
    "plt.plot(eff, rej, c = \"k\")\n",
    "ax.set_xlim(0, 1.07)\n",
    "ax.set_ylim(0, 1.07)\n",
    "\n",
    "ax.set_xlabel('Blue Efficiency', color = \"b\")\n",
    "ax.set_ylabel('Red Rejection', color = \"r\")\n",
    "\n",
    "plt.scatter([1], [1], c = \"b\", s = 200, marker = \"*\", linewidth = 0)\n",
    "\n",
    "figure.savefig('gaus_roc.pdf', bbox_inches='tight', pad_inches=0.1)\n",
    "\n",
    "plt.show()"
   ]
  },
  {
   "cell_type": "markdown",
   "metadata": {},
   "source": [
    "## Plot Training Sample and Mesh"
   ]
  },
  {
   "cell_type": "code",
   "execution_count": null,
   "metadata": {
    "collapsed": false
   },
   "outputs": [],
   "source": [
    "def plot_classifier(Xtr, ytr, alpha = 0.2, alpha_pt = None, fn = None, h = 0.01, file = None):\n",
    "\n",
    "    fig = plt.figure()\n",
    "    \n",
    "    if fn:\n",
    "        \n",
    "        xx, yy = np.meshgrid(np.arange(-1.3, 1.3, h),np.arange(-1.3, 1.3, h))\n",
    "        Z = fn(np.c_[xx.ravel(), yy.ravel()])\n",
    "        Z = Z.reshape(xx.shape)\n",
    "\n",
    "        plt.contourf(xx, yy, Z, cmap=plt.cm.viridis, alpha = alpha)\n",
    "\n",
    "\n",
    "    if alpha_pt: alpha = alpha_pt\n",
    "    plt.scatter(Xtr[:, 0], Xtr[:, 1], c=ytr, s=40, cmap=plt.cm.viridis, alpha = alpha, linewidth = 0.1)\n",
    "    \n",
    "    plt.xlim([-1.3, 1.3])\n",
    "    plt.ylim([-1.3, 1.3])\n",
    "    \n",
    "    if file: fig.savefig(file, bbox_inches='tight', pad_inches=0.1)\n"
   ]
  },
  {
   "cell_type": "markdown",
   "metadata": {},
   "source": [
    "## Define a Spiral Dataset"
   ]
  },
  {
   "cell_type": "code",
   "execution_count": null,
   "metadata": {
    "collapsed": false
   },
   "outputs": [],
   "source": [
    "def spiral_data(K, N = 1000, D = 2, noise_level = 0.4):\n",
    "\n",
    "    X = np.zeros((N*K,D))\n",
    "    y = np.zeros(N*K, dtype='uint8')\n",
    "    for j in range(K):\n",
    "\n",
    "        ix = range(N*j,N*(j+1))\n",
    "\n",
    "        spiral = np.linspace(0, 1.5 * np.pi,N)\n",
    "        offset = 2 * np.pi * j / K\n",
    "        noise  = np.random.randn(N)*noise_level\n",
    "\n",
    "        theta  = spiral + noise + offset\n",
    "\n",
    "        r = np.linspace(0.0,1,N) # radius    \n",
    "\n",
    "        X[ix] = np.c_[r*np.sin(theta), r*np.cos(theta)]\n",
    "        y[ix] = j # class\n",
    "        \n",
    "    return X, y"
   ]
  },
  {
   "cell_type": "code",
   "execution_count": null,
   "metadata": {
    "collapsed": false
   },
   "outputs": [],
   "source": [
    "X, y = spiral_data(K = 6, noise_level = 0.2)\n",
    "plot_classifier(X, y)"
   ]
  },
  {
   "cell_type": "markdown",
   "metadata": {},
   "source": [
    "## Define Blobs"
   ]
  },
  {
   "cell_type": "code",
   "execution_count": null,
   "metadata": {
    "collapsed": false
   },
   "outputs": [],
   "source": [
    "def blob_data(X = 2, Y = 2, N = 1000, D = 2, correlated = 0.5, noise_level = 1.0):\n",
    "\n",
    "    K = X * Y\n",
    "    \n",
    "    par = np.zeros((N*K,D))\n",
    "    cat = np.zeros(N*K, dtype='uint8')\n",
    "    \n",
    "    xstart = -0.5 if X > 1 else 0\n",
    "    ystart = -0.5 if Y > 1 else 0\n",
    "    \n",
    "    xx, yy = np.meshgrid(np.linspace(xstart, 0.5, X), \n",
    "                         np.linspace(ystart, 0.5, Y))\n",
    "    \n",
    "    for j, (xctr,yctr) in enumerate(zip(xx.ravel(), yy.ravel())):\n",
    "\n",
    "        ix = range(N*j,N*(j+1))\n",
    "\n",
    "        corr = np.random.randn(N) * correlated \n",
    "        uncorr_x = np.random.randn(N) * (1 - correlated)\n",
    "        uncorr_y = np.random.randn(N) * (1 - correlated)\n",
    "\n",
    "        x = (corr + uncorr_x) * noise_level + xctr\n",
    "        y = (corr + uncorr_y) * noise_level + yctr\n",
    "\n",
    "        r = np.linspace(0.0,1,N) # radius    \n",
    "\n",
    "        par[ix] = np.c_[x, y]\n",
    "        cat[ix] = j \n",
    "        \n",
    "    return par, cat"
   ]
  },
  {
   "cell_type": "code",
   "execution_count": null,
   "metadata": {
    "collapsed": false
   },
   "outputs": [],
   "source": [
    "X, y = blob_data(X = 5, Y = 1, noise_level = 0.15, correlated = 0.85)\n",
    "plot_classifier(X, y)"
   ]
  },
  {
   "cell_type": "markdown",
   "metadata": {},
   "source": [
    "## Principal Component Analysis and Linear Discriminant Analysis"
   ]
  },
  {
   "cell_type": "code",
   "execution_count": null,
   "metadata": {
    "collapsed": true
   },
   "outputs": [],
   "source": [
    "from sklearn import decomposition, discriminant_analysis"
   ]
  },
  {
   "cell_type": "code",
   "execution_count": null,
   "metadata": {
    "collapsed": false
   },
   "outputs": [],
   "source": [
    "X, y = blob_data(X = 1, Y = 1, noise_level = 0.35, correlated = 0.75)\n",
    "y[X[:,0] > 0] = 1\n",
    "\n",
    "plot_classifier(X, y)"
   ]
  },
  {
   "cell_type": "code",
   "execution_count": null,
   "metadata": {
    "collapsed": false
   },
   "outputs": [],
   "source": [
    "pca = decomposition.PCA(n_components = 2)\n",
    "X_r = pca.fit(X).transform(X)\n",
    "print('explained variance ratio (first two components): ' + str(pca.explained_variance_ratio_))\n",
    "\n",
    "plt.figure()\n",
    "plt.scatter(X_r[:, 0], X_r[:, 1], c = y, alpha=.8, cmap=plt.cm.viridis)\n",
    "plt.show()"
   ]
  },
  {
   "cell_type": "markdown",
   "metadata": {},
   "source": [
    "### Create a Series of Blobs, Overlapping in x and y."
   ]
  },
  {
   "cell_type": "code",
   "execution_count": null,
   "metadata": {
    "collapsed": false
   },
   "outputs": [],
   "source": [
    "X, y = blob_data(X = 1, Y = 4, noise_level = 0.25, correlated = 0.8)\n",
    "K = len(set(y))\n",
    "\n",
    "cm = [plt.cm.viridis(v) for v in np.linspace(0, 1, K)]"
   ]
  },
  {
   "cell_type": "code",
   "execution_count": null,
   "metadata": {
    "collapsed": true
   },
   "outputs": [],
   "source": [
    "lda = discriminant_analysis.LinearDiscriminantAnalysis(n_components = 2)\n",
    "lda.fit(X, y)\n",
    "\n",
    "plot_classifier(X, y, fn = lda.predict, file = \"lda_classifier.pdf\")"
   ]
  },
  {
   "cell_type": "code",
   "execution_count": null,
   "metadata": {
    "collapsed": true
   },
   "outputs": [],
   "source": [
    "X_r2 = lda.fit(X, y)\n",
    "X_r2 = lda.transform(X)\n",
    "\n",
    "fig = plt.figure()\n",
    "plt.scatter(X_r2[:, 0], X_r2[:, 1], c=y, s=40, cmap=plt.cm.viridis, alpha = 0.2, linewidth = 0.1)\n",
    "fig.savefig('lda_transf.pdf', bbox_inches='tight', pad_inches=0.1)\n",
    "plt.show()\n",
    "\n",
    "fig = plt.figure()\n",
    "ax = plt.gca()\n",
    "\n",
    "ax.hist([X_r2[y == c, 0] for c in range(K)], \n",
    "        bins=30, histtype = 'step', color = cm, alpha = 1.0)\n",
    "fig.savefig('lda_project.pdf', bbox_inches='tight', pad_inches=0.1)\n",
    "\n",
    "plt.show()"
   ]
  },
  {
   "cell_type": "code",
   "execution_count": null,
   "metadata": {
    "collapsed": false
   },
   "outputs": [],
   "source": [
    "# Define blob data with 2×2\n",
    "X, y = blob_data(X = 2, Y = 2, noise_level = 0.25, correlated = 0.8)\n",
    "K = len(set(y))\n",
    "\n",
    "cm = [plt.cm.viridis(v) for v in np.linspace(0, 1, K)]\n",
    "\n",
    "# create the LDA and fit it to data\n",
    "lda = discriminant_analysis.LinearDiscriminantAnalysis()\n",
    "lda.fit(X, y)\n",
    "\n",
    "print(lda.predict([[1, 1]]))\n",
    "\n",
    "# plot it, using my function\n",
    "plot_classifier(X, y, fn = lda.predict, file = \"lda_classifier2.pdf\")\n",
    "X_r2 = lda.fit(X, y)\n",
    "X_r2 = lda.transform(X)\n",
    "\n",
    "fig = plt.figure()\n",
    "plt.scatter(X_r2[:, 0], X_r2[:, 1], c=y, s=40, cmap=plt.cm.viridis, alpha = 0.2, linewidth = 0.1)\n",
    "fig.savefig('lda_transf2.pdf', bbox_inches='tight', pad_inches=0.1)\n",
    "plt.show()\n",
    "\n",
    "fig = plt.figure()\n",
    "ax = plt.gca()\n",
    "\n",
    "ax.hist([X_r2[y == c, 0] for c in range(K)], \n",
    "        bins=30, histtype = 'step', color = cm, alpha = 1.0)\n",
    "fig.savefig('lda_project2.pdf', bbox_inches='tight', pad_inches=0.1)\n",
    "\n",
    "plt.show()"
   ]
  },
  {
   "cell_type": "code",
   "execution_count": null,
   "metadata": {
    "collapsed": false
   },
   "outputs": [],
   "source": [
    "X, y = spiral_data(K = 6, noise_level = 0.2)\n",
    "\n",
    "lda = discriminant_analysis.LinearDiscriminantAnalysis(n_components = 2)\n",
    "lda.fit(X, y)\n",
    "\n",
    "plot_classifier(X[::5,], y[::5], fn = lda.predict, file = \"lda_lollypop.pdf\", alpha = 0.3)"
   ]
  },
  {
   "cell_type": "markdown",
   "metadata": {},
   "source": [
    "## Nearest Neighbors and Overtraining"
   ]
  },
  {
   "cell_type": "code",
   "execution_count": null,
   "metadata": {
    "collapsed": true
   },
   "outputs": [],
   "source": [
    "X, y = blob_data(noise_level = 0.5, correlated = 0.5, N = 200)\n",
    "# X, y = spiral_data(K = 7, N = 30, noise_level = 0.3)"
   ]
  },
  {
   "cell_type": "code",
   "execution_count": null,
   "metadata": {
    "collapsed": false
   },
   "outputs": [],
   "source": [
    "knn = neighbors.KNeighborsClassifier(1, weights=\"uniform\")\n",
    "\n",
    "knn.fit(X, y)\n",
    "plot_classifier(X[:,], y[:], fn = knn.predict, alpha = 0.4, h = 0.01, file = \"knn_overtrained.pdf\")\n",
    "\n",
    "knn = neighbors.KNeighborsClassifier(30, weights=\"uniform\")\n",
    "\n",
    "knn.fit(X, y)\n",
    "plot_classifier(X[:,], y[:], fn = knn.predict, alpha = 0.4, h = 0.01, file = \"knn_k30.pdf\")"
   ]
  },
  {
   "cell_type": "markdown",
   "metadata": {},
   "source": [
    "## In the real world...\n",
    "\n",
    "You wouldn't write your own classifier (without a _lot_ more practice).\n",
    "\n",
    "[scikit learn](http://scikit-learn.org/) implements many of the \"standard\" classification algorithms.  Let's see what these look like.  \n",
    "\n",
    "BUT: _be careful!_  This is an incredibly powerful tool, and one that is very easy to misuse.  Check (but do not tune) to your test sample, use well-understood input variables.  And understand who/what you're selecting."
   ]
  },
  {
   "cell_type": "code",
   "execution_count": null,
   "metadata": {
    "collapsed": false
   },
   "outputs": [],
   "source": [
    "X, y = blob_data(X = 2, Y = 2, N = 1000, noise_level = 0.5, correlated = 0.6)\n",
    "# X, y = spiral_data(K = 5, noise_level = 0.4, N = 1000)\n",
    "\n",
    "bdt = tree.DecisionTreeClassifier(min_samples_leaf = 1)\n",
    "bdt.fit(X, y)\n",
    "\n",
    "plot_classifier(X[::,], y[::], fn = bdt.predict, alpha = 0.4, alpha_pt = 0.06, file = \"bdt_overtrained.pdf\")\n",
    "\n",
    "bdt = tree.DecisionTreeClassifier(min_samples_leaf = 15)\n",
    "bdt.fit(X, y)\n",
    "\n",
    "plot_classifier(X[::,], y[::], fn = bdt.predict, alpha = 0.4, alpha_pt = 0.06, file = \"bdt_leaf15.pdf\")\n",
    "\n",
    "\n",
    "import pydotplus\n",
    "from IPython.display import Image  \n",
    "dot_data = tree.export_graphviz(bdt, out_file=None, filled=True, rounded=True, special_characters=True) \n",
    "graph = pydotplus.graph_from_dot_data(dot_data)  \n",
    "graph.write_pdf(\"bdt_graph.pdf\") \n",
    "Image(graph.create_png())  "
   ]
  },
  {
   "cell_type": "code",
   "execution_count": null,
   "metadata": {
    "collapsed": false
   },
   "outputs": [],
   "source": [
    "X, y = spiral_data(K = 5, noise_level = 0.4, N = 1000)\n",
    "\n",
    "mlp = neural_network.MLPClassifier(solver='lbfgs', alpha = 1e0, random_state=1, hidden_layer_sizes=(100))\n",
    "mlp.fit(X, y)\n",
    "\n",
    "plot_classifier(X[:,], y[:], fn = mlp.predict, alpha = 0.4, alpha_pt = 0.05, file = \"mlp_classifier.pdf\")"
   ]
  },
  {
   "cell_type": "code",
   "execution_count": null,
   "metadata": {
    "collapsed": false
   },
   "outputs": [],
   "source": [
    "knn = neighbors.KNeighborsClassifier(10, weights=\"distance\")\n",
    "knn.fit(X, y)\n",
    "\n",
    "plot_classifier(X, y, fn = knn.predict)"
   ]
  },
  {
   "cell_type": "markdown",
   "metadata": {},
   "source": [
    "## Train a Linear Classifier"
   ]
  },
  {
   "cell_type": "code",
   "execution_count": null,
   "metadata": {
    "collapsed": true
   },
   "outputs": [],
   "source": [
    "X, y = blob_data(noise_level = 0.5, correlated = 0.5, N = 200)\n",
    "# X, y = spiral_data(K = 5, noise_level = 0.3)"
   ]
  },
  {
   "cell_type": "code",
   "execution_count": null,
   "metadata": {
    "collapsed": false
   },
   "outputs": [],
   "source": [
    "# initialize parameters randomly\n",
    "K = len(set(y))\n",
    "D = X.shape[1]\n",
    "\n",
    "W = 0.01 * np.random.randn(D,K)\n",
    "b = np.zeros((1,K))\n",
    "\n",
    "# some hyperparameters\n",
    "step_size = 1e-1\n",
    "reg = 1e-3 # regularization strength\n",
    "epsilon = 1e-5\n",
    "\n",
    "# gradient descent loop\n",
    "num_examples = X.shape[0]\n",
    "for i in range(5000): \n",
    "    \n",
    "    # evaluate class scores, [N x K]\n",
    "    scores = np.dot(X, W) + b \n",
    "\n",
    "    # compute the class probabilities\n",
    "    exp_scores = np.exp(scores)\n",
    "    probs = exp_scores / np.sum(exp_scores, axis=1, keepdims=True) # [N x K]\n",
    "\n",
    "    # compute the loss: average cross-entropy loss and regularization\n",
    "    correct_logprobs = -np.log(probs[range(num_examples),y])\n",
    "    data_loss = np.sum(correct_logprobs)/num_examples\n",
    "    reg_loss = 0.5*reg*np.sum(W*W)\n",
    "    loss = data_loss + reg_loss\n",
    "    \n",
    "    if i % 1000 == 0: print(\"iteration {:d}: loss {:f}\".format(i, loss))\n",
    "\n",
    "    # compute the gradient on scores\n",
    "    dscores = probs\n",
    "    dscores[range(num_examples),y] -= 1\n",
    "    dscores /= num_examples\n",
    "\n",
    "    # backpropate the gradient to the parameters (W,b)\n",
    "    dW = np.dot(X.T, dscores) + reg * W\n",
    "    db = np.sum(dscores, axis=0, keepdims=True)\n",
    "\n",
    "    # perform a parameter update\n",
    "    W += -step_size * dW\n",
    "    b += -step_size * db\n",
    "\n",
    "    \n",
    "def linear_classifier(X):\n",
    "    \n",
    "    # Calculate the max classifier value.\n",
    "    return np.argmax(np.dot(X, W) + b, axis = 1)   \n",
    "    "
   ]
  },
  {
   "cell_type": "code",
   "execution_count": null,
   "metadata": {
    "collapsed": false
   },
   "outputs": [],
   "source": [
    "print('Accuracy: {:.1f}%'.format(100. *np.mean(linear_classifier(X) == y)))\n",
    "plot_classifier(X, y, fn = linear_classifier, alpha = 0.3)"
   ]
  },
  {
   "cell_type": "markdown",
   "metadata": {},
   "source": [
    "## Build a Neural Network \"By Hand\"\n",
    "Example adapted from:\n",
    "* http://cs231n.github.io/neural-networks-case-study/\n",
    "* http://www.wildml.com/2015/09/implementing-a-neural-network-from-scratch/\n",
    "\n",
    "(Which have the same form...)"
   ]
  },
  {
   "cell_type": "code",
   "execution_count": null,
   "metadata": {
    "collapsed": true
   },
   "outputs": [],
   "source": [
    "import numpy as np\n",
    "\n",
    "# Single hidden layer\n",
    "class my_nn():\n",
    "    \n",
    "    def __init__(self, classes, dim, hidden = 100, step_size = 1, regularization = 1e-3):\n",
    "        \n",
    "        # dimensions\n",
    "        self.h = hidden\n",
    "        self.K = classes\n",
    "        self.D = dim\n",
    "\n",
    "        # randomly initialization\n",
    "        self.W1 = 0.01 * np.random.randn(self.D, self.h)\n",
    "        self.b1 = np.zeros((1, self.h))\n",
    "        self.W2 = 0.01 * np.random.randn(self.h, self.K)\n",
    "        self.b2 = np.zeros((1, self.K))\n",
    "\n",
    "        # some hyperparameters\n",
    "        self.step_size = step_size \n",
    "        self.regularization = regularization\n",
    "        \n",
    "    \n",
    "    def evaluate(self, X):\n",
    "        \n",
    "        # Useful to save the hidden layer, for back propagation.\n",
    "        self.hidden_layer = np.maximum(0, np.dot(X, self.W1) + self.b1) # ReLU activation\n",
    "        scores = np.dot(self.hidden_layer, self.W2) + self.b2\n",
    "        \n",
    "        return scores\n",
    " \n",
    "    def classify(self, X):\n",
    "        \n",
    "        return np.argmax(self.evaluate(X), axis=1)\n",
    "\n",
    "    \n",
    "    def train(self, X, iterations = 500):\n",
    "        \n",
    "        N = X.shape[0]\n",
    "\n",
    "        # gradient descent loop\n",
    "        for it in range(iterations):\n",
    "\n",
    "            # evaluate \n",
    "            scores = self.evaluate(X)\n",
    "            \n",
    "            # compute the class probabilities\n",
    "            exp_scores = np.exp(scores)\n",
    "            probs = exp_scores / np.sum(exp_scores, axis=1, keepdims=True) # [N x K]\n",
    "\n",
    "            # compute the loss: average cross-entropy loss and regularization\n",
    "            corect_logprobs = -np.log(probs[range(N),y])\n",
    "            data_loss = np.sum(corect_logprobs)/N\n",
    "            reg_loss = 0.5 * self.regularization * (np.sum(self.W1*self.W1) + np.sum(self.W2*self.W2))\n",
    "            loss = data_loss + reg_loss\n",
    "\n",
    "            if it % 1000 == 0: print(\"iteration {:d}: loss {:.4f}\".format(it, loss))\n",
    "\n",
    "            # compute the gradient on scores\n",
    "            dscores = probs\n",
    "            dscores[range(N),y] -= 1\n",
    "            dscores /= N\n",
    "\n",
    "            # backpropate the gradient to the parameters\n",
    "            # first backprop into parameters W2 and b2\n",
    "            dW2 = np.dot(self.hidden_layer.T, dscores)\n",
    "            db2 = np.sum(dscores, axis=0, keepdims=True)\n",
    "            \n",
    "            # backprop into hidden layer\n",
    "            dhidden = np.dot(dscores, self.W2.T)\n",
    "            # backprop the ReLU non-linearity\n",
    "            dhidden[self.hidden_layer <= 0] = 0\n",
    "            \n",
    "            # finally into W1, b1\n",
    "            dW1 = np.dot(X.T, dhidden)\n",
    "            db1 = np.sum(dhidden, axis=0, keepdims=True)\n",
    "\n",
    "            # add regularization gradient contribution\n",
    "            # since we used λ W² / 2, it's just W.\n",
    "            dW2 += self.regularization * self.W2\n",
    "            dW1 += self.regularization * self.W1\n",
    "\n",
    "            # perform a parameter update\n",
    "            # step_size = 10 ** (-np.log(it+1)/np.log(5000))\n",
    "            self.W1 += - self.step_size * dW1\n",
    "            self.b1 += - self.step_size * db1\n",
    "            self.W2 += - self.step_size * dW2\n",
    "            self.b2 += - self.step_size * db2\n"
   ]
  },
  {
   "cell_type": "code",
   "execution_count": null,
   "metadata": {
    "collapsed": false,
    "scrolled": false
   },
   "outputs": [],
   "source": [
    "X, y = spiral_data(K = 5, noise_level = 0.3)"
   ]
  },
  {
   "cell_type": "code",
   "execution_count": null,
   "metadata": {
    "collapsed": false
   },
   "outputs": [],
   "source": [
    "nn = my_nn(classes = len(set(y)), dim = X.shape[1], hidden = 100)\n",
    "nn.train(X, 5000)"
   ]
  },
  {
   "cell_type": "code",
   "execution_count": null,
   "metadata": {
    "collapsed": false
   },
   "outputs": [],
   "source": [
    "# nn.step_size = 0.1\n",
    "# nn.train(X, 500)\n",
    "print('Accuracy: {:.1f}%'.format(100. * np.mean(nn.classify(X) == y)))\n",
    "plot_classifier(X[::5,], y[::5], fn = nn.classify, file = \"my_nn_classifier.pdf\", alpha = 0.3)"
   ]
  }
 ],
 "metadata": {
  "anaconda-cloud": {},
  "kernelspec": {
   "display_name": "Python [conda root]",
   "language": "python",
   "name": "conda-root-py"
  },
  "language_info": {
   "codemirror_mode": {
    "name": "ipython",
    "version": 3
   },
   "file_extension": ".py",
   "mimetype": "text/x-python",
   "name": "python",
   "nbconvert_exporter": "python",
   "pygments_lexer": "ipython3",
   "version": "3.5.2"
  }
 },
 "nbformat": 4,
 "nbformat_minor": 0
}
