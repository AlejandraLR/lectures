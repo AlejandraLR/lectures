{
 "cells": [
  {
   "cell_type": "markdown",
   "metadata": {},
   "source": [
    "# Hello World."
   ]
  },
  {
   "cell_type": "code",
   "execution_count": 1,
   "metadata": {
    "collapsed": false
   },
   "outputs": [
    {
     "name": "stdout",
     "output_type": "stream",
     "text": [
      "Hello world!\n"
     ]
    }
   ],
   "source": [
    "print(\"Hello world!\")"
   ]
  },
  {
   "cell_type": "markdown",
   "metadata": {},
   "source": [
    "   * `print()` is a special **function** that we need now, for demonstration.  We'll talk _a lot_ more about functions next week.\n",
    "   * For now, just know that `print` is python's word for spitting text back to the prompt for humans to read.\n",
    "   * It can take as many **arguments** (variables) as you want, all separated by commas."
   ]
  },
  {
   "cell_type": "code",
   "execution_count": 2,
   "metadata": {
    "collapsed": false
   },
   "outputs": [
    {
     "name": "stdout",
     "output_type": "stream",
     "text": [
      "a b c\n"
     ]
    }
   ],
   "source": [
    "print(\"a\", \"b\", \"c\")"
   ]
  },
  {
   "cell_type": "markdown",
   "metadata": {},
   "source": [
    "Let's make it a bit more interesting, by using a variable:"
   ]
  },
  {
   "cell_type": "code",
   "execution_count": 3,
   "metadata": {
    "collapsed": false
   },
   "outputs": [
    {
     "name": "stdout",
     "output_type": "stream",
     "text": [
      "Hello world!\n",
      "hw\n"
     ]
    }
   ],
   "source": [
    "hw = \"Hello world!\" # here we _assign_ a variable.\n",
    "print(hw) # *THIS* is a comment.\n",
    "print(\"hw\")"
   ]
  },
  {
   "cell_type": "markdown",
   "metadata": {},
   "source": [
    "Our first error:"
   ]
  },
  {
   "cell_type": "code",
   "execution_count": 5,
   "metadata": {
    "collapsed": false,
    "scrolled": true
   },
   "outputs": [],
   "source": [
    "hw = \"Hello world!?\""
   ]
  },
  {
   "cell_type": "markdown",
   "metadata": {},
   "source": [
    "Python tends to give very useful feedback when you make mistakes.\n",
    "\n",
    "**The computer is <font color=darkred>NEVER</font> wrong.**  (It will definitely feel as though it is -- think of it as an exercise in humility. ☺)"
   ]
  },
  {
   "cell_type": "markdown",
   "metadata": {},
   "source": [
    "   * Important note: in _Think Python_ and elsewhere, you will find many example like \"`print x, y, z`\" and then be surprised to find that your example doesn't run (`Missing parentheses in call to 'print'`).  That is Python 2.  In this class we'll use Python 3.  There are a few other nitpicky differences."
   ]
  },
  {
   "cell_type": "code",
   "execution_count": 7,
   "metadata": {
    "collapsed": false
   },
   "outputs": [
    {
     "name": "stdout",
     "output_type": "stream",
     "text": [
      "1 2 3\n"
     ]
    }
   ],
   "source": [
    "# print 1, 2, 3\n",
    "print(1, 2, 3)"
   ]
  },
  {
   "cell_type": "markdown",
   "metadata": {},
   "source": [
    "### Simple Calculations with _Literals_"
   ]
  },
  {
   "cell_type": "code",
   "execution_count": 8,
   "metadata": {
    "collapsed": false
   },
   "outputs": [
    {
     "data": {
      "text/plain": [
       "25"
      ]
     },
     "execution_count": 8,
     "metadata": {},
     "output_type": "execute_result"
    }
   ],
   "source": [
    "5 * 5"
   ]
  },
  {
   "cell_type": "code",
   "execution_count": 9,
   "metadata": {
    "collapsed": false
   },
   "outputs": [
    {
     "name": "stdout",
     "output_type": "stream",
     "text": [
      "160 plus tax and tip: 203.2\n"
     ]
    }
   ],
   "source": [
    "print(\"160 plus tax and tip:\", 160 * (1 + 0.07 + 0.20))"
   ]
  },
  {
   "cell_type": "code",
   "execution_count": 10,
   "metadata": {
    "collapsed": false
   },
   "outputs": [
    {
     "name": "stdout",
     "output_type": "stream",
     "text": [
      "5 miles is 8.05 km.\n",
      "5 km is 3.105590062111801 miles.\n"
     ]
    }
   ],
   "source": [
    "a = 5\n",
    "print(a, \"miles is\", a * 1.61, \"km.\")\n",
    "print(a, \"km is\", a / 1.61, \"miles.\")"
   ]
  },
  {
   "cell_type": "markdown",
   "metadata": {},
   "source": [
    "### Comments.\n",
    "   * Comments are a <font color=darkred>**CRITICAL**</font> part of code.\n",
    "   * They exist _only_ to you help you and other humans understand what you've written.\n",
    "     * Specifically, I and your TA will thank you and give you points.\n",
    "   * They are denoted using a \"hash\", \"pound\", or \"octothorpe\".\n",
    "   * It can include an entire line, or just a part of a line."
   ]
  },
  {
   "cell_type": "code",
   "execution_count": 11,
   "metadata": {
    "collapsed": false
   },
   "outputs": [
    {
     "name": "stdout",
     "output_type": "stream",
     "text": [
      "Hello world\n"
     ]
    }
   ],
   "source": [
    "# This is just for humans.\n",
    "# print(\"This will not be printed.\")\n",
    "hw = \"Hello world\"\n",
    "print(hw) # computers are poopy"
   ]
  },
  {
   "cell_type": "markdown",
   "metadata": {},
   "source": [
    "You can also make multiline comments, using triple quotes:"
   ]
  },
  {
   "cell_type": "code",
   "execution_count": 12,
   "metadata": {
    "collapsed": false
   },
   "outputs": [
    {
     "name": "stdout",
     "output_type": "stream",
     "text": [
      "Hello world\n"
     ]
    }
   ],
   "source": [
    "'''This is a multi-line comment.\n",
    "   Technically, it is a string literal,\n",
    "   but because it doesn't do anything,\n",
    "   it's pretty much the same thing.\n",
    "   And can be used as such.\n",
    "   '''\n",
    "print(\"Hello world\")"
   ]
  },
  {
   "cell_type": "markdown",
   "metadata": {
    "collapsed": true
   },
   "source": [
    "   * <font color=darkred>**Create variables for your name and eye color; have the computer salute you and compliment your eyes.**</font>\n",
    "     * Hint: `name = \"My Name\"`\n",
    "     \n",
    "   * <font color=darkred>**Create a script (e.g., `my_great_script.py` ) to run the program below.  Understand and correct _both_ of its errors.**</font>\n",
    "     * You can copy it from: [tinyurl.com/jucarva](http://tinyurl.com/jucarva), or this notebook (if you have it open)."
   ]
  },
  {
   "cell_type": "code",
   "execution_count": 17,
   "metadata": {
    "collapsed": false
   },
   "outputs": [
    {
     "name": "stdout",
     "output_type": "stream",
     "text": [
      "26.2 miles is 42.182 km.\n",
      "5 km is 3.105590062111801 miles.\n"
     ]
    }
   ],
   "source": [
    "#!/usr/bin/env python\n",
    "\n",
    "a = 26.2 # miles in a marathon \n",
    "b = 5    # km in a 5k\n",
    "km_per_mile = 1.61\n",
    "print(a, \"miles is\", a * km_per_mile, \"km.\")\n",
    "print(a, \"km is\", b * mile_per_km, \"miles.\")"
   ]
  },
  {
   "cell_type": "markdown",
   "metadata": {},
   "source": [
    "### Let's now work through the basic types of variables."
   ]
  }
 ],
 "metadata": {
  "anaconda-cloud": {},
  "kernelspec": {
   "display_name": "Python [Root]",
   "language": "python",
   "name": "Python [Root]"
  },
  "language_info": {
   "codemirror_mode": {
    "name": "ipython",
    "version": 3
   },
   "file_extension": ".py",
   "mimetype": "text/x-python",
   "name": "python",
   "nbconvert_exporter": "python",
   "pygments_lexer": "ipython3",
   "version": "3.5.2"
  }
 },
 "nbformat": 4,
 "nbformat_minor": 0
}
