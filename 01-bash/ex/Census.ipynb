{
 "cells": [
  {
   "cell_type": "markdown",
   "metadata": {
    "deletable": true,
    "editable": true
   },
   "source": [
    "# Simple Census Grab"
   ]
  },
  {
   "cell_type": "markdown",
   "metadata": {
    "deletable": true,
    "editable": true
   },
   "source": [
    "### Load a few packages."
   ]
  },
  {
   "cell_type": "code",
   "execution_count": null,
   "metadata": {
    "collapsed": false,
    "deletable": true,
    "editable": true
   },
   "outputs": [],
   "source": [
    "import os\n",
    "\n",
    "import geopandas as gpd\n",
    "import pandas as pd\n",
    "import requests\n",
    "import folium\n",
    "\n",
    "%matplotlib inline"
   ]
  },
  {
   "cell_type": "markdown",
   "metadata": {
    "deletable": true,
    "editable": true
   },
   "source": [
    "### Get poverty data from the census.\n",
    "See the possible variables, here:\n",
    "http://api.census.gov/data/2015/acs5/variables.html"
   ]
  },
  {
   "cell_type": "code",
   "execution_count": null,
   "metadata": {
    "collapsed": false,
    "deletable": true,
    "editable": true
   },
   "outputs": [],
   "source": [
    "acs  = \"https://api.census.gov/data/2015/acs5/profile?\"\n",
    "# resp = requests.get(acs + \"get=NAME,DP03_0119PE&for=tract:*&in=state:17+county:*\")\n",
    "json = resp.json()\n",
    "\n",
    "df = gpd.pd.DataFrame(data = json[1:], columns = [\"Name\", \"DP03_0119PE\", \"state\", \"county\", \"tract\"])\n",
    "df[\"Poverty Rate\"] = pd.to_numeric(df[\"DP03_0119PE\"], errors = \"coerce\").fillna(0)"
   ]
  },
  {
   "cell_type": "markdown",
   "metadata": {
    "deletable": true,
    "editable": true
   },
   "source": [
    "### Get shapefiles of census tracts."
   ]
  },
  {
   "cell_type": "code",
   "execution_count": null,
   "metadata": {
    "collapsed": false,
    "deletable": true,
    "editable": true
   },
   "outputs": [],
   "source": [
    "# os.system(\"wget http://www2.census.gov/geo/tiger/GENZ2014/shp/cb_2014_17_tract_500k.zip\")\n",
    "# os.system(\"unzip cb_2014_17_tract_500k.zip\")\n",
    "tract_df = gpd.read_file(\"cb_2014_17_tract_500k.shp\")"
   ]
  },
  {
   "cell_type": "markdown",
   "metadata": {
    "deletable": true,
    "editable": true
   },
   "source": [
    "### Merge them together."
   ]
  },
  {
   "cell_type": "code",
   "execution_count": null,
   "metadata": {
    "collapsed": false,
    "deletable": true,
    "editable": true
   },
   "outputs": [],
   "source": [
    "merged_df = tract_df.merge(df, left_on  = [\"STATEFP\", \"COUNTYFP\", \"TRACTCE\"], \n",
    "                               right_on = [\"state\", \"county\", \"tract\"])"
   ]
  },
  {
   "cell_type": "markdown",
   "metadata": {
    "deletable": true,
    "editable": true
   },
   "source": [
    "### See it."
   ]
  },
  {
   "cell_type": "code",
   "execution_count": null,
   "metadata": {
    "collapsed": false,
    "deletable": true,
    "editable": true
   },
   "outputs": [],
   "source": [
    "m = folium.Map([41.9901466,-87.6620448], zoom_start = 13, tiles = \"cartodbpositron\", max_zoom = 14, min_zoom = 6, attr = \"\")\n",
    "\n",
    "colormap = folium.LinearColormap((\"orange\", \"white\", \"purple\"), vmin = 70, vmax = 100, caption = \"Percent of Families Poverty\")\n",
    "colormap.add_to(m)\n",
    "\n",
    "folium.GeoJson(merged_df,\n",
    "               style_function = lambda feature: { \n",
    "                  'fillColor': colormap(feature['properties'][\"Poverty Rate\"]) if feature[\"properties\"][\"Poverty Rate\"] else \"k\",\n",
    "                  \"color\" : \"k\", \"weight\" : 0.3, \"fillOpacity\" : 0.4 if feature[\"properties\"][\"Poverty Rate\"] else 0,\n",
    "               }).add_to(m)\n",
    "m"
   ]
  },
  {
   "cell_type": "code",
   "execution_count": null,
   "metadata": {
    "collapsed": true,
    "deletable": true,
    "editable": true
   },
   "outputs": [],
   "source": [
    "m.save(\"il_poverty.html\")"
   ]
  },
  {
   "cell_type": "code",
   "execution_count": null,
   "metadata": {
    "collapsed": false,
    "deletable": true,
    "editable": true
   },
   "outputs": [],
   "source": [
    "! scp il_poverty.html saxon.harris.uchicago.edu:www/"
   ]
  },
  {
   "cell_type": "code",
   "execution_count": null,
   "metadata": {
    "collapsed": true,
    "deletable": true,
    "editable": true
   },
   "outputs": [],
   "source": []
  }
 ],
 "metadata": {
  "anaconda-cloud": {},
  "kernelspec": {
   "display_name": "Python [conda root]",
   "language": "python",
   "name": "conda-root-py"
  },
  "language_info": {
   "codemirror_mode": {
    "name": "ipython",
    "version": 3
   },
   "file_extension": ".py",
   "mimetype": "text/x-python",
   "name": "python",
   "nbconvert_exporter": "python",
   "pygments_lexer": "ipython3",
   "version": "3.5.3"
  }
 },
 "nbformat": 4,
 "nbformat_minor": 0
}
