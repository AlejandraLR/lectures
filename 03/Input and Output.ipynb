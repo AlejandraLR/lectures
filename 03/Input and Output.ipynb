{
 "cells": [
  {
   "cell_type": "code",
   "execution_count": 1,
   "metadata": {
    "collapsed": true
   },
   "outputs": [],
   "source": [
    "import json"
   ]
  },
  {
   "cell_type": "markdown",
   "metadata": {},
   "source": [
    "Reads (they should know)... and writes."
   ]
  },
  {
   "cell_type": "markdown",
   "metadata": {},
   "source": [
    "* Write 0-1M to a file."
   ]
  },
  {
   "cell_type": "code",
   "execution_count": null,
   "metadata": {
    "collapsed": true
   },
   "outputs": [],
   "source": [
    "#!/usr/bin/env python\n",
    "for line in open(\"salaries.csv\", \"r\"): print(line.strip())"
   ]
  },
  {
   "cell_type": "code",
   "execution_count": 5,
   "metadata": {
    "collapsed": false
   },
   "outputs": [],
   "source": [
    "with open(\"ex/elevation/elevations.json\") as f: elevations = json.load(f)\n",
    "with open(\"ex/elevation/locations.json\") as f:  locations = json.load(f)"
   ]
  },
  {
   "cell_type": "code",
   "execution_count": 16,
   "metadata": {
    "collapsed": false
   },
   "outputs": [
    {
     "name": "stdout",
     "output_type": "stream",
     "text": [
      "40.7127837 -74.0059413\n",
      "34.0522342 -118.2436849\n",
      "41.8781136 -87.6297982\n",
      "33.4483771 -112.0740373\n",
      "39.7392358 -104.990251\n",
      "38.8338816 -104.8213634\n"
     ]
    }
   ],
   "source": [
    "elev = 0\n",
    "lat, lon = 0, 0\n",
    "for x in elevations[\"results\"]:\n",
    "    if x[\"elevation\"] < elev: continue\n",
    "    \n",
    "    elev = x[\"elevation\"]\n",
    "    lat, lon = x[\"location\"][\"lat\"], x[\"location\"][\"lng\"]\n",
    "    \n",
    "    print(lat, lon)"
   ]
  },
  {
   "cell_type": "code",
   "execution_count": 26,
   "metadata": {
    "collapsed": false
   },
   "outputs": [
    {
     "name": "stdout",
     "output_type": "stream",
     "text": [
      "Colorado Springs, CO, USA 1833.080078125\n"
     ]
    }
   ],
   "source": [
    "for x in locations:\n",
    "    if abs(x[\"results\"][0][\"geometry\"][\"location\"][\"lat\"] - lat) < 0.01 and \\\n",
    "       abs(x[\"results\"][0][\"geometry\"][\"location\"][\"lng\"] - lon) < 0.01:\n",
    "        print(x[\"results\"][0][\"formatted_address\"], elev)"
   ]
  },
  {
   "cell_type": "code",
   "execution_count": null,
   "metadata": {
    "collapsed": true
   },
   "outputs": [],
   "source": []
  }
 ],
 "metadata": {
  "anaconda-cloud": {},
  "kernelspec": {
   "display_name": "Python [conda root]",
   "language": "python",
   "name": "conda-root-py"
  },
  "language_info": {
   "codemirror_mode": {
    "name": "ipython",
    "version": 3
   },
   "file_extension": ".py",
   "mimetype": "text/x-python",
   "name": "python",
   "nbconvert_exporter": "python",
   "pygments_lexer": "ipython3",
   "version": "3.5.2"
  }
 },
 "nbformat": 4,
 "nbformat_minor": 2
}
