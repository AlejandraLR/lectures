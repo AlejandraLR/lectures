{
 "cells": [
  {
   "cell_type": "markdown",
   "metadata": {
    "deletable": true,
    "editable": true
   },
   "source": [
    "# Variables, Types, and Operators"
   ]
  },
  {
   "cell_type": "markdown",
   "metadata": {
    "deletable": true,
    "editable": true
   },
   "source": [
    "   * We've already seen that we can do simple calculations with literals, such as:"
   ]
  },
  {
   "cell_type": "code",
   "execution_count": 1,
   "metadata": {
    "collapsed": false,
    "deletable": true,
    "editable": true
   },
   "outputs": [
    {
     "data": {
      "text/plain": [
       "6"
      ]
     },
     "execution_count": 1,
     "metadata": {},
     "output_type": "execute_result"
    }
   ],
   "source": [
    "3 * 2 # jupyter, spyder, and python print the return value of the last line automatically."
   ]
  },
  {
   "cell_type": "markdown",
   "metadata": {
    "deletable": true,
    "editable": true
   },
   "source": [
    "   * We also started to see that you could define variables, and use them in the same way "
   ]
  },
  {
   "cell_type": "code",
   "execution_count": 2,
   "metadata": {
    "collapsed": false,
    "deletable": true,
    "editable": true
   },
   "outputs": [
    {
     "name": "stdout",
     "output_type": "stream",
     "text": [
      "6\n"
     ]
    }
   ],
   "source": [
    "a = 3\n",
    "b = 2\n",
    "print(a * b)"
   ]
  },
  {
   "cell_type": "markdown",
   "metadata": {
    "deletable": true,
    "editable": true
   },
   "source": [
    "### What basic types of variables can we define?\n",
    "* **`bool`**: `True`, `False`\n",
    "* **`int`**: `42`\n",
    "* **`float`** (floating point): `12.345`\n",
    "* **`string`**: `Play it once, Sam, for old times' sake.`\n",
    "* **`list`**: `[2, 3, 5, 7, 11, 13, 17, 19, 23]`\n",
    "* **`dict`** `(dictionary): {\"apple\" : \"fruit\", \"banana\" : \"fruit\", \"broccoli\" : \"vegetable\"}`\n",
    "\n",
    "\n",
    "* We'll consider variables of arbitrary complexity, next week."
   ]
  },
  {
   "cell_type": "markdown",
   "metadata": {},
   "source": [
    "If you are ever confused or curious as to the \"`type`\" of a variable, just use the \"`type()`\" function:"
   ]
  },
  {
   "cell_type": "code",
   "execution_count": 12,
   "metadata": {
    "collapsed": false
   },
   "outputs": [
    {
     "data": {
      "text/plain": [
       "(int, float, str, str, bool, list)"
      ]
     },
     "execution_count": 12,
     "metadata": {},
     "output_type": "execute_result"
    }
   ],
   "source": [
    "type(9), type(9.0), type(\"9.0\"), type(\"9\"), type(9 > 0), type([9])"
   ]
  },
  {
   "cell_type": "markdown",
   "metadata": {},
   "source": [
    "### What operations can we perform on these variables?"
   ]
  },
  {
   "cell_type": "markdown",
   "metadata": {
    "deletable": true,
    "editable": true
   },
   "source": [
    "##  Integers.\n",
    "* These are the familiar operations -- they should 'just make sense,' with a few caveats."
   ]
  },
  {
   "cell_type": "markdown",
   "metadata": {
    "deletable": true,
    "editable": true
   },
   "source": [
    "### Assignment (for any type): `=`"
   ]
  },
  {
   "cell_type": "code",
   "execution_count": null,
   "metadata": {
    "collapsed": true,
    "deletable": true,
    "editable": true
   },
   "outputs": [],
   "source": [
    "i = 1"
   ]
  },
  {
   "cell_type": "markdown",
   "metadata": {
    "deletable": true,
    "editable": true
   },
   "source": [
    "Note the shortcut: "
   ]
  },
  {
   "cell_type": "code",
   "execution_count": 3,
   "metadata": {
    "collapsed": false,
    "deletable": true,
    "editable": true
   },
   "outputs": [
    {
     "name": "stdout",
     "output_type": "stream",
     "text": [
      "2 3\n"
     ]
    }
   ],
   "source": [
    "a, b = 2, 3\n",
    "print(a, b)"
   ]
  },
  {
   "cell_type": "markdown",
   "metadata": {
    "deletable": true,
    "editable": true
   },
   "source": [
    "### Arithmetic operators: `+`, `-`, `*`, `/`, `%`, `//`, `**`.\n",
    "(Don't forget your orders of operations.)"
   ]
  },
  {
   "cell_type": "code",
   "execution_count": 4,
   "metadata": {
    "collapsed": false,
    "deletable": true,
    "editable": true
   },
   "outputs": [
    {
     "name": "stdout",
     "output_type": "stream",
     "text": [
      "Addition                a +  b = 32\n",
      "Subtraction             a -  b = 18\n",
      "Multiplication          a *  b = 175\n",
      "Division                a /  b = 3.5714285714285716\n",
      "Floor division          a // b = 3\n",
      "Modulus (remainder)     a %  b = 4\n",
      "Exponentiaion           a ** b = 6103515625\n"
     ]
    }
   ],
   "source": [
    "a, b = 25, 7\n",
    "print(\"Addition                a +  b =\", a +  b)\n",
    "print(\"Subtraction             a -  b =\", a -  b)\n",
    "print(\"Multiplication          a *  b =\", a *  b)\n",
    "print(\"Division                a /  b =\", a /  b) # note that does not yield an int!!\n",
    "print(\"Floor division          a // b =\", a // b) # yields an int, by dropping the decimals.\n",
    "print(\"Modulus (remainder)     a %  b =\", a %  b)\n",
    "print(\"Exponentiaion           a ** b =\", a ** b)"
   ]
  },
  {
   "cell_type": "markdown",
   "metadata": {
    "deletable": true,
    "editable": true
   },
   "source": [
    "### One can also 'combine' assignment and arithmetic:"
   ]
  },
  {
   "cell_type": "code",
   "execution_count": 6,
   "metadata": {
    "collapsed": false,
    "deletable": true,
    "editable": true
   },
   "outputs": [
    {
     "name": "stdout",
     "output_type": "stream",
     "text": [
      "2 3\n"
     ]
    }
   ],
   "source": [
    "a, b = 2, 3\n",
    "a *= b\n",
    "print(a, b)"
   ]
  },
  {
   "cell_type": "markdown",
   "metadata": {
    "deletable": true,
    "editable": true
   },
   "source": [
    "### Comparison operators.\n",
    "* Like the arithmetic operators, these behave as you'd expect, returning booleans.\n",
    "* Equals is `==`, since asignment uses `=`."
   ]
  },
  {
   "cell_type": "code",
   "execution_count": 14,
   "metadata": {
    "collapsed": false,
    "deletable": true,
    "editable": true
   },
   "outputs": [
    {
     "name": "stdout",
     "output_type": "stream",
     "text": [
      "a = 25 and b = 7\n",
      "Equality                   (a == b) : False\n",
      "Greater than               (a >  b) : True\n",
      "Less than                  (a <  b) : False\n",
      "Greater than or equal to   (a >= b) : True\n",
      "Less than or equal to      (a <= b) : False\n",
      "Not equal to               (a != b) : True\n"
     ]
    }
   ],
   "source": [
    "a, b = 25, 7\n",
    "print(\"a =\", a, \"and b =\", b)\n",
    "print(\"Equality                   (a == b) :\", a == b)\n",
    "print(\"Greater than               (a >  b) :\", a >  b)\n",
    "print(\"Less than                  (a <  b) :\", a <  b)\n",
    "print(\"Greater than or equal to   (a >= b) :\", a >= b) # note that does not yield an int!!\n",
    "print(\"Less than or equal to      (a <= b) :\", a <= b) # yields an int, by dropping the decimals.\n",
    "print(\"Not equal to               (a != b) :\", a != b)"
   ]
  },
  {
   "cell_type": "markdown",
   "metadata": {
    "deletable": true,
    "editable": true
   },
   "source": [
    "* One more operator for integers, `is`, can be tricky:"
   ]
  },
  {
   "cell_type": "code",
   "execution_count": 17,
   "metadata": {
    "collapsed": false,
    "deletable": true,
    "editable": true
   },
   "outputs": [
    {
     "name": "stdout",
     "output_type": "stream",
     "text": [
      "17 17 True True\n",
      "257 257 True False\n",
      "8123497641671524 8123497641671524 True False\n"
     ]
    }
   ],
   "source": [
    "a = 17\n",
    "b = 17\n",
    "print(a, b, a == b, a is b)\n",
    "\n",
    "a = 257\n",
    "b = 257\n",
    "print(a, b, a == b, a is b)\n",
    "\n",
    "a = 8123497641671524\n",
    "b = 8123497641671524\n",
    "print(a, b, a == b, a is b)"
   ]
  },
  {
   "cell_type": "markdown",
   "metadata": {
    "deletable": true,
    "editable": true
   },
   "source": [
    "* <font color=darkred>**WHAT?!**</font>  Equality checks if the two values are equal, while `is` checks if it is the same object.\n",
    "* Python is very smart, and knows that it will need to use low-value integers frequently.  0-256 have special status behind the scenes: a and b are _actually_ the same object for values less than 257.  `is` will turn out to be useful for strings.  But for integers, perhaps stick to equality!"
   ]
  },
  {
   "cell_type": "markdown",
   "metadata": {
    "deletable": true,
    "editable": true
   },
   "source": [
    "## booleans\n",
    "* Since we're already touching on it, a boolean (`bool`) is just a `True`/`False` value.\n",
    "* You will use these non-stop when we arrive at conditional execution and loops.\n",
    "* Let's review some _boolean arithmetic!!_\n",
    "* The main point of interest are **`and`** and **`or`** operations, and ways that other variables get converted into them.\n",
    "  * That is: is the value 0 or a string or list empty?"
   ]
  },
  {
   "cell_type": "code",
   "execution_count": 6,
   "metadata": {
    "collapsed": false,
    "deletable": true,
    "editable": true
   },
   "outputs": [
    {
     "name": "stdout",
     "output_type": "stream",
     "text": [
      "True and False             False\n",
      "True or False              True\n",
      "True and (False or True)   True\n",
      "bool(0)                    False\n",
      "bool(1)                    True\n",
      "bool(-1)                   True\n",
      "bool([])                   False\n",
      "bool([0])                  True\n",
      "bool('False')              True\n",
      "bool(0.0)                  False\n"
     ]
    }
   ],
   "source": [
    "print(\"True and False            \", True and False)\n",
    "print(\"True or False             \", True or False)\n",
    "print(\"True and (False or True)  \", True and (False or True))\n",
    "print(\"bool(0)                   \", bool(0))\n",
    "print(\"bool(1)                   \", bool(1))\n",
    "print(\"bool(-1)                  \", bool(-1))\n",
    "print(\"bool([])                  \", bool([]))\n",
    "print(\"bool([0])                 \", bool([0]))\n",
    "print(\"bool('False')             \", bool('False'))\n",
    "print(\"bool(0.0)                 \", bool(0.0))"
   ]
  },
  {
   "cell_type": "markdown",
   "metadata": {},
   "source": [
    "* What are you are doing here is \"casting\" these other variables as a boolean.  This can be done, in general, whenever it \"makes sense.\"   That is, you can convert between formats, by wrapping a variable in `int()`, `str()`, etc."
   ]
  },
  {
   "cell_type": "code",
   "execution_count": 18,
   "metadata": {
    "collapsed": false
   },
   "outputs": [
    {
     "data": {
      "text/plain": [
       "(9, 0, '9', 9.0, 91, '[9]')"
      ]
     },
     "execution_count": 18,
     "metadata": {},
     "output_type": "execute_result"
    }
   ],
   "source": [
    "int(9.1), int(0.9), str(9), float(9), int(\"91\"), str([9])"
   ]
  },
  {
   "cell_type": "markdown",
   "metadata": {},
   "source": [
    "BUT"
   ]
  },
  {
   "cell_type": "code",
   "execution_count": 13,
   "metadata": {
    "collapsed": false
   },
   "outputs": [
    {
     "ename": "ValueError",
     "evalue": "invalid literal for int() with base 10: 'nine'",
     "output_type": "error",
     "traceback": [
      "\u001b[0;31m---------------------------------------------------------------------------\u001b[0m",
      "\u001b[0;31mValueError\u001b[0m                                Traceback (most recent call last)",
      "\u001b[0;32m<ipython-input-13-85d476a1e594>\u001b[0m in \u001b[0;36m<module>\u001b[0;34m()\u001b[0m\n\u001b[0;32m----> 1\u001b[0;31m \u001b[0mint\u001b[0m\u001b[0;34m(\u001b[0m\u001b[0;34m\"nine\"\u001b[0m\u001b[0;34m)\u001b[0m\u001b[0;34m\u001b[0m\u001b[0m\n\u001b[0m",
      "\u001b[0;31mValueError\u001b[0m: invalid literal for int() with base 10: 'nine'"
     ]
    }
   ],
   "source": [
    "int(\"nine\")"
   ]
  },
  {
   "cell_type": "code",
   "execution_count": 17,
   "metadata": {
    "collapsed": false
   },
   "outputs": [
    {
     "ename": "ValueError",
     "evalue": "invalid literal for int() with base 10: '0.9'",
     "output_type": "error",
     "traceback": [
      "\u001b[0;31m---------------------------------------------------------------------------\u001b[0m",
      "\u001b[0;31mValueError\u001b[0m                                Traceback (most recent call last)",
      "\u001b[0;32m<ipython-input-17-618d948c6239>\u001b[0m in \u001b[0;36m<module>\u001b[0;34m()\u001b[0m\n\u001b[0;32m----> 1\u001b[0;31m \u001b[0mint\u001b[0m\u001b[0;34m(\u001b[0m\u001b[0;34m'0.9'\u001b[0m\u001b[0;34m)\u001b[0m\u001b[0;34m\u001b[0m\u001b[0m\n\u001b[0m",
      "\u001b[0;31mValueError\u001b[0m: invalid literal for int() with base 10: '0.9'"
     ]
    }
   ],
   "source": [
    "int('0.9')"
   ]
  },
  {
   "cell_type": "markdown",
   "metadata": {
    "deletable": true,
    "editable": true
   },
   "source": [
    "## floats\n",
    "All of the arithmetic and assignment operators are pretty much like for integers -- and as you would expect.  We've already seen this: "
   ]
  },
  {
   "cell_type": "code",
   "execution_count": 19,
   "metadata": {
    "collapsed": false,
    "deletable": true,
    "editable": true
   },
   "outputs": [
    {
     "name": "stdout",
     "output_type": "stream",
     "text": [
      "26.2188 miles is 42.1950684672 km.\n"
     ]
    }
   ],
   "source": [
    "mara_miles  = 26.2188 # miles in a marathon \n",
    "km_per_mile = 1.609344\n",
    "print(mara_miles, \"miles is\", mara_miles * km_per_mile, \"km.\")"
   ]
  },
  {
   "cell_type": "markdown",
   "metadata": {
    "deletable": true,
    "editable": true
   },
   "source": [
    "But some behavior is going to be different from what you expect:"
   ]
  },
  {
   "cell_type": "code",
   "execution_count": 1,
   "metadata": {
    "collapsed": false,
    "deletable": true,
    "editable": true
   },
   "outputs": [
    {
     "name": "stdout",
     "output_type": "stream",
     "text": [
      "True\n"
     ]
    }
   ],
   "source": [
    "print(9.12 == 9.12)"
   ]
  },
  {
   "cell_type": "code",
   "execution_count": 14,
   "metadata": {
    "collapsed": false,
    "deletable": true,
    "editable": true
   },
   "outputs": [
    {
     "name": "stdout",
     "output_type": "stream",
     "text": [
      "0.3 0.30000000000000004\n",
      "False\n"
     ]
    }
   ],
   "source": [
    "print(0.3,   (0.1 * 3))\n",
    "print(0.3 == (0.1 * 3))"
   ]
  },
  {
   "cell_type": "markdown",
   "metadata": {
    "deletable": true,
    "editable": true
   },
   "source": [
    "This is because the computer performs the calculation with limited precision."
   ]
  },
  {
   "cell_type": "markdown",
   "metadata": {
    "deletable": true,
    "editable": true
   },
   "source": [
    "## Strings\n",
    "* We've already seen many strings, but this is possibly the first new 'type' for you.\n",
    "* You can define strings with single, double, or triple quotes."
   ]
  },
  {
   "cell_type": "code",
   "execution_count": 25,
   "metadata": {
    "collapsed": false,
    "deletable": true,
    "editable": true
   },
   "outputs": [
    {
     "name": "stdout",
     "output_type": "stream",
     "text": [
      "Call me Ishmael.\n",
      "Happy families are all alike; every unhappy family is unhappy in its own way.\n",
      "You are about to begin reading Italo Calvino's new novel, 'If on a winter's night a traveler.' \n"
     ]
    }
   ],
   "source": [
    "a = \"Call me Ishmael.\"\n",
    "b = 'Happy families are all alike; every unhappy family is unhappy in its own way.'\n",
    "c = '''You are about to begin reading Italo Calvino's new novel, 'If on a winter's night a traveler.' '''\n",
    "print(a)\n",
    "print(b)\n",
    "print(c)"
   ]
  },
  {
   "cell_type": "markdown",
   "metadata": {
    "deletable": true,
    "editable": true
   },
   "source": [
    "* The triple quotes (`'''`) are special because they allow a string to extend over lines:"
   ]
  },
  {
   "cell_type": "code",
   "execution_count": 26,
   "metadata": {
    "collapsed": false,
    "deletable": true,
    "editable": true
   },
   "outputs": [
    {
     "name": "stdout",
     "output_type": "stream",
     "text": [
      "Lorem ipsum dolor sit amet, consectetur adipiscing elit, \n",
      "sed do eiusmod tempor incididunt ut labore et dolore magna aliqua. \n",
      "Ut enim ad minim veniam, quis nostrud exercitation ullamco laboris \n",
      "nisi ut aliquip ex ea commodo consequat. Duis aute irure dolor in \n",
      "reprehenderit in voluptate velit esse cillum dolore eu fugiat nulla \n",
      "pariatur. Excepteur sint occaecat cupidatat non proident, sunt in \n",
      "culpa qui officia deserunt mollit anim id est laborum.\n"
     ]
    }
   ],
   "source": [
    "lorem = '''Lorem ipsum dolor sit amet, consectetur adipiscing elit, \n",
    "sed do eiusmod tempor incididunt ut labore et dolore magna aliqua. \n",
    "Ut enim ad minim veniam, quis nostrud exercitation ullamco laboris \n",
    "nisi ut aliquip ex ea commodo consequat. Duis aute irure dolor in \n",
    "reprehenderit in voluptate velit esse cillum dolore eu fugiat nulla \n",
    "pariatur. Excepteur sint occaecat cupidatat non proident, sunt in \n",
    "culpa qui officia deserunt mollit anim id est laborum.'''\n",
    "print(lorem)"
   ]
  },
  {
   "cell_type": "markdown",
   "metadata": {
    "deletable": true,
    "editable": true
   },
   "source": [
    "* Note that if you type the quote character(s), it will stop the string.  In other words, this will fail:"
   ]
  },
  {
   "cell_type": "code",
   "execution_count": 26,
   "metadata": {
    "collapsed": false,
    "deletable": true,
    "editable": true
   },
   "outputs": [
    {
     "ename": "SyntaxError",
     "evalue": "invalid syntax (<ipython-input-26-a4b75e7532c9>, line 1)",
     "output_type": "error",
     "traceback": [
      "\u001b[0;36m  File \u001b[0;32m\"<ipython-input-26-a4b75e7532c9>\"\u001b[0;36m, line \u001b[0;32m1\u001b[0m\n\u001b[0;31m    c = 'You are about to begin reading Italo Calvino's new novel, 'If on a winter's night a traveler.' '\u001b[0m\n\u001b[0m                                                      ^\u001b[0m\n\u001b[0;31mSyntaxError\u001b[0m\u001b[0;31m:\u001b[0m invalid syntax\n"
     ]
    }
   ],
   "source": [
    "c = 'You are about to begin reading Italo Calvino's new novel, 'If on a winter's night a traveler.' '\n",
    "print(c)"
   ]
  },
  {
   "cell_type": "markdown",
   "metadata": {
    "deletable": true,
    "editable": true
   },
   "source": [
    "* In this and many other instances, you must use _escape_ characters, namely `\\`.\n",
    "* Among others: a carriage return (`\\n` or sometimes `\\r` in Windows), a tab (`\\t`), quotes (`\\'` or `\\\"`), backslash (`\\\\`), etc."
   ]
  },
  {
   "cell_type": "code",
   "execution_count": 29,
   "metadata": {
    "collapsed": false,
    "deletable": true,
    "editable": true
   },
   "outputs": [
    {
     "name": "stdout",
     "output_type": "stream",
     "text": [
      "Lorem ipsum dolor sit amet, consectetur adipiscing elit,\n",
      "sed do eiusmod tempor incididunt ut labore et dolore magna aliqua. \n",
      "Ut enim ad minim veniam, quis nostrud exercitation ullamco laboris \n",
      "nisi ut aliquip ex ea commodo consequat. Duis aute irure dolor in \n",
      "reprehenderit in voluptate velit esse cillum dolore eu fugiat nulla \n",
      "pariatur. Excepteur sint occaecat cupidatat non proident, sunt in \n",
      "culpa qui officia deserunt mollit anim id est laborum.\n"
     ]
    }
   ],
   "source": [
    "lorem = \"Lorem ipsum dolor sit amet, consectetur adipiscing elit,\\nsed do eiusmod tempor incididunt ut labore et dolore magna aliqua. \\nUt enim ad minim veniam, quis nostrud exercitation ullamco laboris \\nnisi ut aliquip ex ea commodo consequat. Duis aute irure dolor in \\nreprehenderit in voluptate velit esse cillum dolore eu fugiat nulla \\npariatur. Excepteur sint occaecat cupidatat non proident, sunt in \\nculpa qui officia deserunt mollit anim id est laborum.\"\n",
    "print(lorem)"
   ]
  },
  {
   "cell_type": "markdown",
   "metadata": {
    "deletable": true,
    "editable": true
   },
   "source": [
    "* As for integers and floats, 'arithmetic' is defined in cases where it is meaningful:"
   ]
  },
  {
   "cell_type": "code",
   "execution_count": 30,
   "metadata": {
    "collapsed": false,
    "deletable": true,
    "editable": true
   },
   "outputs": [
    {
     "name": "stdout",
     "output_type": "stream",
     "text": [
      "abcdef\n",
      "abc abc abc \n"
     ]
    }
   ],
   "source": [
    "print(\"abc\" + \"def\")\n",
    "print(3 * \"abc \")"
   ]
  },
  {
   "cell_type": "markdown",
   "metadata": {
    "deletable": true,
    "editable": true
   },
   "source": [
    "* In cases where it does not make sense, you'll get an error:"
   ]
  },
  {
   "cell_type": "code",
   "execution_count": 31,
   "metadata": {
    "collapsed": false,
    "deletable": true,
    "editable": true
   },
   "outputs": [
    {
     "ename": "TypeError",
     "evalue": "unsupported operand type(s) for -: 'str' and 'str'",
     "output_type": "error",
     "traceback": [
      "\u001b[0;31m---------------------------------------------------------------------------\u001b[0m",
      "\u001b[0;31mTypeError\u001b[0m                                 Traceback (most recent call last)",
      "\u001b[0;32m<ipython-input-31-b7302499f2ef>\u001b[0m in \u001b[0;36m<module>\u001b[0;34m()\u001b[0m\n\u001b[0;32m----> 1\u001b[0;31m \u001b[0;34m\"abc\"\u001b[0m \u001b[0;34m-\u001b[0m \u001b[0;34m\"abc\"\u001b[0m\u001b[0;34m\u001b[0m\u001b[0m\n\u001b[0m",
      "\u001b[0;31mTypeError\u001b[0m: unsupported operand type(s) for -: 'str' and 'str'"
     ]
    }
   ],
   "source": [
    "\"abc\" - \"abc\""
   ]
  },
  {
   "cell_type": "markdown",
   "metadata": {
    "deletable": true,
    "editable": true
   },
   "source": [
    "* The equality operators (chiefly, `==`, `is` and `!=`) are also defined for strings."
   ]
  },
  {
   "cell_type": "code",
   "execution_count": 34,
   "metadata": {
    "collapsed": false,
    "deletable": true,
    "editable": true
   },
   "outputs": [
    {
     "name": "stdout",
     "output_type": "stream",
     "text": [
      "True False True\n"
     ]
    }
   ],
   "source": [
    "a, b = \"happy\", \"happy\"\n",
    "print(a is b, b == \"sad\", b != \"sad\")"
   ]
  },
  {
   "cell_type": "markdown",
   "metadata": {
    "deletable": true,
    "editable": true
   },
   "source": [
    "* One of the most useful features is `in`, which checks to see if one string is contained within another:"
   ]
  },
  {
   "cell_type": "code",
   "execution_count": 35,
   "metadata": {
    "collapsed": false,
    "deletable": true,
    "editable": true
   },
   "outputs": [
    {
     "data": {
      "text/plain": [
       "True"
      ]
     },
     "execution_count": 35,
     "metadata": {},
     "output_type": "execute_result"
    }
   ],
   "source": [
    "\"foo foo\" in \"foo bar foo foo\""
   ]
  },
  {
   "cell_type": "markdown",
   "metadata": {
    "deletable": true,
    "editable": true
   },
   "source": [
    "* <font color=darkred>**Check if there is lettuce in your \"bacon, lettuce, and tomato\".**</font>"
   ]
  },
  {
   "cell_type": "code",
   "execution_count": 1,
   "metadata": {
    "collapsed": false
   },
   "outputs": [
    {
     "data": {
      "text/plain": [
       "'9'"
      ]
     },
     "execution_count": 1,
     "metadata": {},
     "output_type": "execute_result"
    }
   ],
   "source": [
    "str(9)"
   ]
  },
  {
   "cell_type": "markdown",
   "metadata": {
    "deletable": true,
    "editable": true
   },
   "source": [
    "### String _methods_."
   ]
  },
  {
   "cell_type": "markdown",
   "metadata": {
    "deletable": true,
    "editable": true
   },
   "source": [
    "* _Methods_ are operations that an object can do to itself.  These is part of _classes_, which we'll cover more next week.\n",
    "* Python has a tremendous number of **methods** on strings, see <a href=https://docs.python.org/3/library/stdtypes.html#string-methods>here</a>.\n",
    "* This tremendous variety means that python is truly one of the greatest programming languages for dealing with strings.\n",
    "* We'll cover a few of the most-used ones: **`replace()`**, **`split()`**, and **`format()`**.  Note that these return new values."
   ]
  },
  {
   "cell_type": "markdown",
   "metadata": {
    "deletable": true,
    "editable": true
   },
   "source": [
    "**replace(a, b)** _replaces_ all occurrences of the first argument with the second."
   ]
  },
  {
   "cell_type": "code",
   "execution_count": 40,
   "metadata": {
    "collapsed": false,
    "deletable": true,
    "editable": true,
    "scrolled": true
   },
   "outputs": [
    {
     "data": {
      "text/plain": [
       "('hello world, hello', 'goodbye world, goodbye')"
      ]
     },
     "execution_count": 40,
     "metadata": {},
     "output_type": "execute_result"
    }
   ],
   "source": [
    "a, b, = \"hello\", \"goodbye\"\n",
    "s1 = \"hello world, hello\"\n",
    "s2 = s1.replace(a, b)\n",
    "s1, s2"
   ]
  },
  {
   "cell_type": "markdown",
   "metadata": {
    "deletable": true,
    "editable": true
   },
   "source": [
    "**`split()`** separates a string into a list of strings, on an optional argument (by default, whitespace)."
   ]
  },
  {
   "cell_type": "code",
   "execution_count": 41,
   "metadata": {
    "collapsed": false,
    "deletable": true,
    "editable": true
   },
   "outputs": [
    {
     "data": {
      "text/plain": [
       "['goodbye', 'world,', 'goodbye']"
      ]
     },
     "execution_count": 41,
     "metadata": {},
     "output_type": "execute_result"
    }
   ],
   "source": [
    "s2.split()"
   ]
  },
  {
   "cell_type": "markdown",
   "metadata": {
    "deletable": true,
    "editable": true
   },
   "source": [
    "### **format()** is perhaps the most-important string method; it is used to format almost every piece of output, with tremendous flexibility (and complexity)."
   ]
  },
  {
   "cell_type": "markdown",
   "metadata": {
    "deletable": true,
    "editable": true
   },
   "source": [
    "A simple example is not so bad:"
   ]
  },
  {
   "cell_type": "code",
   "execution_count": 43,
   "metadata": {
    "collapsed": false,
    "deletable": true,
    "editable": true,
    "scrolled": true
   },
   "outputs": [
    {
     "name": "stdout",
     "output_type": "stream",
     "text": [
      "I would love to print my values: 1 2 3\n",
      "I would love to print my values: 1, 2, 3\n"
     ]
    }
   ],
   "source": [
    "print(\"I would\", \"love\", \"to print my values:\", 1, 2, 3)\n",
    "print(\"I would {} to print my values: {}, {}, {}\".format(\"love\", 1, 2, 3))"
   ]
  },
  {
   "cell_type": "markdown",
   "metadata": {
    "deletable": true,
    "editable": true
   },
   "source": [
    "But you can also specify the positions:"
   ]
  },
  {
   "cell_type": "code",
   "execution_count": 44,
   "metadata": {
    "collapsed": false,
    "deletable": true,
    "editable": true
   },
   "outputs": [
    {
     "name": "stdout",
     "output_type": "stream",
     "text": [
      "I would love to print my values: 1, 2, 3\n"
     ]
    }
   ],
   "source": [
    "print(\"I would {3} to print my values: {1}, {0}, {2}\".format(2, 1, 3, \"love\"))"
   ]
  },
  {
   "cell_type": "markdown",
   "metadata": {
    "deletable": true,
    "editable": true
   },
   "source": [
    "* And you can also specify exactly how to format (what precision, padding, etc.) floats or other numbers.\n",
    "* In the case below, the sequences following the colons denote the format, `d` represents an integer, and the numbers after the colons specify how wide the variable should print."
   ]
  },
  {
   "cell_type": "code",
   "execution_count": 45,
   "metadata": {
    "collapsed": false,
    "deletable": true,
    "editable": true
   },
   "outputs": [
    {
     "name": "stdout",
     "output_type": "stream",
     "text": [
      "  1    1     1      1\n",
      "  2    4     8     16\n",
      "  3    9    27     81\n",
      "  4   16    64    256\n",
      "  5   25   125    625\n",
      "  6   36   216   1296\n",
      "  7   49   343   2401\n",
      "  8   64   512   4096\n",
      "  9   81   729   6561\n",
      " 10  100  1000  10000\n"
     ]
    }
   ],
   "source": [
    "x = 1\n",
    "print('{0:3d}{1:5d}{2:6d}{3:7d}'.format(x ** 1, x ** 2, x ** 3, x ** 4))\n",
    "\n",
    "x = 2\n",
    "print('{0:3d}{1:5d}{2:6d}{3:7d}'.format(x ** 1, x ** 2, x ** 3, x ** 4))\n",
    "\n",
    "x = 3\n",
    "print('{0:3d}{1:5d}{2:6d}{3:7d}'.format(x ** 1, x ** 2, x ** 3, x ** 4))\n",
    "\n",
    "for x in range(4, 11): # please forgive the shortcut, for a lecture....\n",
    "    print('{0:3d}{1:5d}{2:6d}{3:7d}'.format(x ** 1, x ** 2, x ** 3, x ** 4))"
   ]
  },
  {
   "cell_type": "markdown",
   "metadata": {
    "deletable": true,
    "editable": true
   },
   "source": [
    "You can also specify the precision for a floating point number, using `.#f`.  For instance:"
   ]
  },
  {
   "cell_type": "code",
   "execution_count": 46,
   "metadata": {
    "collapsed": false,
    "deletable": true,
    "editable": true
   },
   "outputs": [
    {
     "name": "stdout",
     "output_type": "stream",
     "text": [
      "26.22 miles is 42.20 kilometers\n"
     ]
    }
   ],
   "source": [
    "mara_miles = 26.2188 # miles in a marathon \n",
    "km_per_mile = 1.609344\n",
    "print(\"{0:.2f} miles is {1:.2f} kilometers\".format(mara_miles, mara_miles * km_per_mile))"
   ]
  },
  {
   "cell_type": "markdown",
   "metadata": {
    "deletable": true,
    "editable": true
   },
   "source": [
    "Let's stop there -- you can find all sorts of formatting tips, <a href=https://docs.python.org/3/tutorial/inputoutput.html#fancier-output-formatting>here</a>."
   ]
  },
  {
   "cell_type": "markdown",
   "metadata": {
    "deletable": true,
    "editable": true
   },
   "source": [
    "## Lists\n",
    "* Lists are sequences/ordered groups of other objects.\n",
    "* Typically those objects are of the same type, but that is not enforced.\n",
    "* They are denoted by square brackets."
   ]
  },
  {
   "cell_type": "code",
   "execution_count": 28,
   "metadata": {
    "collapsed": false,
    "deletable": true,
    "editable": true
   },
   "outputs": [],
   "source": [
    "primes = [2, 3, 5, 7, 11, 13, 17, 19, 23]"
   ]
  },
  {
   "cell_type": "markdown",
   "metadata": {
    "deletable": true,
    "editable": true
   },
   "source": [
    "Like strings, there are arithmetic operators in some cases:"
   ]
  },
  {
   "cell_type": "code",
   "execution_count": 29,
   "metadata": {
    "collapsed": false,
    "deletable": true,
    "editable": true
   },
   "outputs": [
    {
     "name": "stdout",
     "output_type": "stream",
     "text": [
      "['a', 'b', 'c', 'd', 'e', 'f']\n",
      "[False, False, False]\n"
     ]
    }
   ],
   "source": [
    "labc = ['a', 'b', 'c']\n",
    "ldef = ['d', 'e', 'f']\n",
    "\n",
    "print(labc + ldef)\n",
    "print(3 * [False]) # This is a really useful trick for building an array."
   ]
  },
  {
   "cell_type": "markdown",
   "metadata": {
    "deletable": true,
    "editable": true
   },
   "source": [
    "The most important operator is `[first:last:step]` (all of which are optional), which allows reference specific elements:"
   ]
  },
  {
   "cell_type": "code",
   "execution_count": 30,
   "metadata": {
    "collapsed": false,
    "deletable": true,
    "editable": true
   },
   "outputs": [
    {
     "name": "stdout",
     "output_type": "stream",
     "text": [
      "2\n",
      "19\n",
      "[17, 19, 23]\n",
      "[23, 19, 17, 13, 11, 7, 5, 3, 2]\n"
     ]
    }
   ],
   "source": [
    "print(primes[0])    # first\n",
    "print(primes[-2])   # second from the end\n",
    "print(primes[-3:])  # all elements, from the third to last to the end\n",
    "print(primes[::-1]) # step through the list backwards"
   ]
  },
  {
   "cell_type": "markdown",
   "metadata": {
    "deletable": true,
    "editable": true
   },
   "source": [
    "* <font color=darkred>**Print the fifth prime.**</font>  (Note that indexes start from 0.)"
   ]
  },
  {
   "cell_type": "markdown",
   "metadata": {},
   "source": [
    "* <font color=darkred>**Print \"d\" from the list `l`.**</font>\n",
    "  ```\n",
    "  l = [\"a\", \"b\", \"c\", \"d\", \"e\", \"f\", g\"]\n",
    "  ```"
   ]
  },
  {
   "cell_type": "markdown",
   "metadata": {
    "deletable": true,
    "editable": true
   },
   "source": [
    "As for strings, the `in` keyword is very useful:"
   ]
  },
  {
   "cell_type": "code",
   "execution_count": 3,
   "metadata": {
    "collapsed": false,
    "deletable": true,
    "editable": true
   },
   "outputs": [
    {
     "name": "stdout",
     "output_type": "stream",
     "text": [
      "Is 19 prime? True\n"
     ]
    }
   ],
   "source": [
    "print(\"Is 19 prime?\", 19 in primes)"
   ]
  },
  {
   "cell_type": "markdown",
   "metadata": {
    "deletable": true,
    "editable": true
   },
   "source": [
    "### List methods\n",
    "You can find all of the list methods <a href=https://docs.python.org/3/tutorial/datastructures.html>here</a>.\n",
    "\n",
    "The most common _method_ for lists is **`append()`** which allows you to add values to the list."
   ]
  },
  {
   "cell_type": "code",
   "execution_count": 4,
   "metadata": {
    "collapsed": false,
    "deletable": true,
    "editable": true
   },
   "outputs": [
    {
     "name": "stdout",
     "output_type": "stream",
     "text": [
      "[0, 2, 4, 6, 8, 10, 12, 14, 16]\n"
     ]
    }
   ],
   "source": [
    "even = [0, 2, 4, 6, 8, 10, 12]\n",
    "even.append(14)\n",
    "even.append(16)\n",
    "print(even)"
   ]
  },
  {
   "cell_type": "markdown",
   "metadata": {
    "deletable": true,
    "editable": true
   },
   "source": [
    "* <font color=darkred>**Accomplish the same thing as above, using list addition instead of append.**</font>"
   ]
  },
  {
   "cell_type": "code",
   "execution_count": 13,
   "metadata": {
    "collapsed": false,
    "deletable": true,
    "editable": true
   },
   "outputs": [],
   "source": [
    "even = [0, 2, 4, 6, 8, 10, 12]\n",
    "even += [14]\n",
    "even += [16]\n",
    "\n",
    "even = [0, 2, 4, 6, 8, 10, 12]\n",
    "even += [14, 16]"
   ]
  },
  {
   "cell_type": "markdown",
   "metadata": {
    "deletable": true,
    "editable": true
   },
   "source": [
    "You may also want to use list...:\n",
    "* **`l.pop()`**: remove the last element.\n",
    "* **`l.reverse()`**: flip the order (same as l[::-1]).\n",
    "* **`l.extend(L)`**: add a list `L` to its end (same as addition).\n",
    "* **`l.sort()`**: rearrange the elements, in order.\n",
    "\n",
    "Unlike for strings, most of these methods will _change_ the list (they work `in place`)."
   ]
  },
  {
   "cell_type": "markdown",
   "metadata": {},
   "source": [
    "### Operations on iterables: \n",
    "\n",
    " * **`max()` returns the larget value.**\n",
    " * **`min()` returns the smallest value.**\n",
    " * **`sum()` returns the sum of all values.**\n",
    " * **`len()` returns the number of elements.**\n",
    " * **`all()` returns True if every element is `True`, and `False` otherwise.**\n",
    " * **`any()` returns True if at least one element is `True`.***"
   ]
  },
  {
   "cell_type": "code",
   "execution_count": 135,
   "metadata": {
    "collapsed": false
   },
   "outputs": [
    {
     "name": "stdout",
     "output_type": "stream",
     "text": [
      "5 2.4 4.1 False True\n"
     ]
    }
   ],
   "source": [
    "l = [1, 0, 1.7, -1, 2.4]\n",
    "print(len(l), max(l), sum(l), all(l), any(l))"
   ]
  },
  {
   "cell_type": "markdown",
   "metadata": {
    "deletable": true,
    "editable": true
   },
   "source": [
    "## Dictionaries (dict)\n",
    "* Dictionaries are like lists where the index can be anything.  This can be used for, say a phone book.\n",
    "* Dictionaries may be declared/assigned, using curly brackets: `{}`.\n",
    "* The index is called a `key`, and the stored value is still... the `value`.\n",
    "* (In technical parlance, these are _hash_ tables.  The `key` is converted into a unique number, used to retrieve the `value`.)"
   ]
  },
  {
   "cell_type": "code",
   "execution_count": 85,
   "metadata": {
    "collapsed": false,
    "deletable": true,
    "editable": true
   },
   "outputs": [
    {
     "name": "stdout",
     "output_type": "stream",
     "text": [
      "{'Louise': 5551285, 'Joey': 9005555566, 'Danny': 8005550489, 'Jackie': 8005551234}\n"
     ]
    },
    {
     "data": {
      "text/plain": [
       "8005550489"
      ]
     },
     "execution_count": 85,
     "metadata": {},
     "output_type": "execute_result"
    }
   ],
   "source": [
    "d = {\"Danny\" : 8005550489, \"Jackie\" : 8005551234, \"Joey\" : 9005555566, \"Louise\" : 5551285}\n",
    "print(d)\n",
    "d[\"Danny\"]"
   ]
  },
  {
   "cell_type": "markdown",
   "metadata": {},
   "source": [
    "You can print out the \"keys\" or \"values\" like so:"
   ]
  },
  {
   "cell_type": "code",
   "execution_count": 133,
   "metadata": {
    "collapsed": false
   },
   "outputs": [
    {
     "name": "stdout",
     "output_type": "stream",
     "text": [
      "dict_keys(['Louise', 'Joey', 'Danny', 'Jackie'])\n",
      "dict_values([5551285, 9005555566, 8005550489, 8005551234])\n"
     ]
    }
   ],
   "source": [
    "print(d.keys())\n",
    "print(d.values())"
   ]
  },
  {
   "cell_type": "markdown",
   "metadata": {
    "deletable": true,
    "editable": true
   },
   "source": [
    "* Many web APIs (Application Programming Interfaces) use the \"json\" (JavaScript Object Notation) data format, which looks an awful lot like a nested dictionary and list.  <font color=darkred>**Extract the duration from the google maps API json response, for the time it takes to go drive from the Aqua Building to the Flatiron Building in NYC.**"
   ]
  },
  {
   "cell_type": "code",
   "execution_count": 134,
   "metadata": {
    "collapsed": false,
    "deletable": true,
    "editable": true
   },
   "outputs": [
    {
     "name": "stdout",
     "output_type": "stream",
     "text": [
      "{'status': 'OK', 'origin_addresses': ['225 N Columbus Dr #220, Chicago, IL 60601, USA'], 'rows': [{'elements': [{'status': 'OK', 'distance': {'text': '1,277 km', 'value': 1277070}, 'duration': {'text': '12 hours 9 mins', 'value': 43715}}]}], 'destination_addresses': ['175 5th Ave, New York, NY 10010, USA']}\n"
     ]
    }
   ],
   "source": [
    "json = {\n",
    "   \"destination_addresses\" : [ \"175 5th Ave, New York, NY 10010, USA\" ],\n",
    "   \"origin_addresses\" : [ \"225 N Columbus Dr #220, Chicago, IL 60601, USA\" ],\n",
    "   \"rows\" : [\n",
    "      {\n",
    "         \"elements\" : [\n",
    "            {\n",
    "               \"distance\" : {\n",
    "                  \"text\" : \"1,277 km\",\n",
    "                  \"value\" : 1277070\n",
    "               },\n",
    "               \"duration\" : {\n",
    "                  \"text\" : \"12 hours 9 mins\",\n",
    "                  \"value\" : 43715\n",
    "               },\n",
    "               \"status\" : \"OK\"\n",
    "            }\n",
    "         ]\n",
    "      }\n",
    "   ],\n",
    "   \"status\" : \"OK\"\n",
    "}\n",
    "\n",
    "print(json)"
   ]
  }
 ],
 "metadata": {
  "anaconda-cloud": {},
  "kernelspec": {
   "display_name": "Python [conda root]",
   "language": "python",
   "name": "conda-root-py"
  },
  "language_info": {
   "codemirror_mode": {
    "name": "ipython",
    "version": 3
   },
   "file_extension": ".py",
   "mimetype": "text/x-python",
   "name": "python",
   "nbconvert_exporter": "python",
   "pygments_lexer": "ipython3",
   "version": "3.5.2"
  }
 },
 "nbformat": 4,
 "nbformat_minor": 0
}
