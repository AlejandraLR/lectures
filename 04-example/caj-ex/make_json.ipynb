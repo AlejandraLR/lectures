{
 "cells": [
  {
   "cell_type": "code",
   "execution_count": 3,
   "metadata": {
    "collapsed": false,
    "deletable": true,
    "editable": true
   },
   "outputs": [],
   "source": [
    "import json\n",
    "import pydotplus as pdp\n",
    "from IPython.display import Image  \n",
    "from glob import glob\n",
    "\n",
    "from IPython.core.interactiveshell import InteractiveShell\n",
    "InteractiveShell.ast_node_interactivity = \"all\""
   ]
  },
  {
   "cell_type": "markdown",
   "metadata": {
    "deletable": true,
    "editable": true
   },
   "source": [
    "## Convert the dot files to json for the demo."
   ]
  },
  {
   "cell_type": "code",
   "execution_count": null,
   "metadata": {
    "collapsed": false,
    "deletable": true,
    "editable": true
   },
   "outputs": [],
   "source": [
    "for f in glob(\"f*/*.dot\"):\n",
    "    \n",
    "    graph = pdp.graphviz.graph_from_dot_file(f)\n",
    "\n",
    "    edges = sorted([(int(e.get_source()), int(e.get_destination())) for e in graph.get_edge_list()])\n",
    "    nodes = sorted([int(n.get_label()) for n in graph.get_node_list() if n.get_label()])\n",
    "\n",
    "    j = []\n",
    "    for n in nodes:\n",
    "        j.append({\"id\" : n, \"nei\" : []})\n",
    "        for e in edges:\n",
    "            if n in e:\n",
    "                j[-1][\"nei\"].append(e[0] if e[1] == n else e[1])\n",
    "                \n",
    "    with open(f.replace(\"dot\", \"json\"), \"w\") as out:\n",
    "        json.dump(j, out)"
   ]
  },
  {
   "cell_type": "markdown",
   "metadata": {
    "deletable": true,
    "editable": true
   },
   "source": [
    "This is just a closure check, that I \"retrieve\" the right diagrams."
   ]
  },
  {
   "cell_type": "code",
   "execution_count": null,
   "metadata": {
    "collapsed": false,
    "deletable": true,
    "editable": true,
    "scrolled": false
   },
   "outputs": [],
   "source": [
    "for f in glob(\"f*/*.json\"):\n",
    "    \n",
    "    graph = pdp.Dot(graph_type='graph')\n",
    "\n",
    "    with open(f) as i: \n",
    "        j = json.load(i)\n",
    "        \n",
    "    nodes = []\n",
    "    for n in j:\n",
    "        nodes.append(pdp.Node(str(n[\"id\"])))\n",
    "        graph.add_node(nodes[-1])\n",
    "\n",
    "    for n in j:\n",
    "        for e in n[\"nei\"]:\n",
    "            if e < n[\"id\"]: continue\n",
    "            graph.add_edge(pdp.Edge(nodes[e-1], nodes[n[\"id\"]-1]))\n",
    "        \n",
    "        \n",
    "    Image(graph.create_png(prog = \"circo\"))"
   ]
  },
  {
   "cell_type": "code",
   "execution_count": null,
   "metadata": {
    "collapsed": false,
    "deletable": true,
    "editable": true,
    "scrolled": false
   },
   "outputs": [],
   "source": [
    "for f in glob(\"f*/*.dot\"):\n",
    "    \n",
    "    graph = pdp.graphviz.graph_from_dot_file(f)\n",
    "    Image(graph.create_png(prog = \"neato\"))"
   ]
  },
  {
   "cell_type": "markdown",
   "metadata": {
    "deletable": true,
    "editable": true
   },
   "source": [
    "### Get all the graphs -- they're all set."
   ]
  },
  {
   "cell_type": "code",
   "execution_count": 91,
   "metadata": {
    "collapsed": false,
    "deletable": true,
    "editable": true
   },
   "outputs": [],
   "source": [
    "graphs = {}\n",
    "for f in glob(\"f*/*.json\"):\n",
    "    with open(f) as i:\n",
    "        graphs[f.replace(\".json\", \"\")] = json.load(i)"
   ]
  },
  {
   "cell_type": "code",
   "execution_count": 93,
   "metadata": {
    "collapsed": false,
    "deletable": true,
    "editable": true
   },
   "outputs": [
    {
     "data": {
      "text/plain": [
       "[{'id': 1, 'nei': [2, 5, 8]},\n",
       " {'id': 2, 'nei': [1, 3, 6]},\n",
       " {'id': 3, 'nei': [2, 4, 7]},\n",
       " {'id': 4, 'nei': [3, 5, 8]},\n",
       " {'id': 5, 'nei': [1, 4, 6]},\n",
       " {'id': 6, 'nei': [2, 5, 7]},\n",
       " {'id': 7, 'nei': [3, 6, 8]},\n",
       " {'id': 8, 'nei': [4, 7, 1]}]"
      ]
     },
     "execution_count": 93,
     "metadata": {},
     "output_type": "execute_result"
    }
   ],
   "source": [
    "graphs[\"f5/a\"]"
   ]
  },
  {
   "cell_type": "code",
   "execution_count": 94,
   "metadata": {
    "collapsed": false,
    "deletable": true,
    "editable": true
   },
   "outputs": [],
   "source": [
    "from random import random, shuffle\n",
    "\n",
    "def iterate(graph = graphs[\"f2/a\"], a = 0.100, b = 0.015, N = 100000):\n",
    "    \n",
    "    for n in graph:\n",
    "        n[\"hist\"] = []\n",
    "        n[\"empl\"] = True\n",
    "        \n",
    "    for i in range(N):\n",
    "        \n",
    "        for n in graph:\n",
    "            n[\"hist\"].append(n[\"empl\"])\n",
    "\n",
    "        for n1 in graph:\n",
    "            if random() < a:\n",
    "                if not n1[\"hist\"][-1]:\n",
    "                    n1[\"empl\"] = True\n",
    "                    \n",
    "                else: # Pass to a neighbor:\n",
    "                    shuffle(n1[\"nei\"])\n",
    "                    \n",
    "                    found = False\n",
    "                    for nei in n1[\"nei\"]:\n",
    "                        for n2 in graph:\n",
    "                            if n2[\"id\"] == nei and not n2[\"hist\"][-1]:\n",
    "                                n2[\"empl\"] = True\n",
    "                                found = True\n",
    "                                break\n",
    "                        if found: break\n",
    "                                            \n",
    "        for n in graph:\n",
    "            if random() < b:\n",
    "                n[\"empl\"] = False\n",
    "                "
   ]
  },
  {
   "cell_type": "code",
   "execution_count": 76,
   "metadata": {
    "collapsed": true,
    "deletable": true,
    "editable": true
   },
   "outputs": [],
   "source": [
    "def unemployment(l): return 1 - sum(l)/len(l)"
   ]
  },
  {
   "cell_type": "code",
   "execution_count": 78,
   "metadata": {
    "collapsed": true,
    "deletable": true,
    "editable": true
   },
   "outputs": [],
   "source": [
    "import math\n",
    "\n",
    "def correlation(l1, l2):\n",
    "    \n",
    "    # Here, var is E[X^2] - E[X]^2.\n",
    "    # Since 1^2 = 1, E[X^2] = E[X].\n",
    "\n",
    "    avg1 = sum(l1)/len(l1)\n",
    "    var1 = avg1 - avg1**2\n",
    "\n",
    "    avg2 = sum(l2)/len(l2)\n",
    "    var2 = avg2 - avg2**2\n",
    "    \n",
    "    exp = sum([(x1 - avg1)*(x2 - avg2) for x1, x2 in zip(l1, l2)]) / len(l1)\n",
    "    \n",
    "    # print(var1, var2)\n",
    "    return exp / math.sqrt(var1 * var2)\n"
   ]
  },
  {
   "cell_type": "markdown",
   "metadata": {
    "deletable": true,
    "editable": true
   },
   "source": [
    "### In Figure 1, agent 1 benefits from agent 3 in the long run (s₁(a) > s₁(b)).  But for s<sub>t-1</sub> = (0, 1, 0) as given, they are anticorrelated."
   ]
  },
  {
   "cell_type": "code",
   "execution_count": 75,
   "metadata": {
    "collapsed": true,
    "deletable": true,
    "editable": true
   },
   "outputs": [],
   "source": [
    "iterate(graphs[\"f1/a\"], N = 10000000)\n",
    "iterate(graphs[\"f1/b\"], N = 10000000)"
   ]
  },
  {
   "cell_type": "code",
   "execution_count": 77,
   "metadata": {
    "collapsed": false,
    "deletable": true,
    "editable": true
   },
   "outputs": [
    {
     "data": {
      "text/plain": [
       "0.07901349999999996"
      ]
     },
     "execution_count": 77,
     "metadata": {},
     "output_type": "execute_result"
    },
    {
     "data": {
      "text/plain": [
       "0.07853089999999996"
      ]
     },
     "execution_count": 77,
     "metadata": {},
     "output_type": "execute_result"
    }
   ],
   "source": [
    "unemployment(graphs[\"f1/a\"][0][\"hist\"])\n",
    "unemployment(graphs[\"f1/b\"][0][\"hist\"])"
   ]
  },
  {
   "cell_type": "code",
   "execution_count": 81,
   "metadata": {
    "collapsed": false,
    "deletable": true,
    "editable": true
   },
   "outputs": [
    {
     "data": {
      "text/plain": [
       "-0.018294128881491654"
      ]
     },
     "execution_count": 81,
     "metadata": {},
     "output_type": "execute_result"
    }
   ],
   "source": [
    "s1_hist = graphs[\"f1/a\"][0][\"hist\"]\n",
    "s2_hist = graphs[\"f1/a\"][1][\"hist\"]\n",
    "s3_hist = graphs[\"f1/a\"][2][\"hist\"]\n",
    "\n",
    "s1_cond = [x for xi, x in enumerate(graphs[\"f1/a\"][0][\"hist\"])\n",
    "           if xi and s1_hist[xi-1] == 0 and s2_hist[xi-1] == 1 and s3_hist[xi-1] == 0]\n",
    "\n",
    "s3_cond = [x for xi, x in enumerate(graphs[\"f1/a\"][2][\"hist\"])\n",
    "           if xi and s1_hist[xi-1] == 0 and s2_hist[xi-1] == 1 and s3_hist[xi-1] == 0]\n",
    "\n",
    "correlation(s1_cond, s3_cond)"
   ]
  },
  {
   "cell_type": "markdown",
   "metadata": {
    "deletable": true,
    "editable": true
   },
   "source": [
    "### In Figure 2 A-D, the employment rates are 0.132, 0.083, 0.063, and 0.050."
   ]
  },
  {
   "cell_type": "code",
   "execution_count": null,
   "metadata": {
    "collapsed": true,
    "deletable": true,
    "editable": true
   },
   "outputs": [],
   "source": [
    "iterate(graphs[\"f2/a\"], N = 10000000)\n",
    "iterate(graphs[\"f2/b\"], N = 10000000)\n",
    "iterate(graphs[\"f2/c\"], N = 10000000)\n",
    "iterate(graphs[\"f2/d\"], N = 10000000)"
   ]
  },
  {
   "cell_type": "code",
   "execution_count": 67,
   "metadata": {
    "collapsed": false,
    "deletable": true,
    "editable": true
   },
   "outputs": [
    {
     "data": {
      "text/plain": [
       "0.13240249999999998"
      ]
     },
     "execution_count": 67,
     "metadata": {},
     "output_type": "execute_result"
    },
    {
     "data": {
      "text/plain": [
       "0.07800220000000002"
      ]
     },
     "execution_count": 67,
     "metadata": {},
     "output_type": "execute_result"
    },
    {
     "data": {
      "text/plain": [
       "0.05655410000000005"
      ]
     },
     "execution_count": 67,
     "metadata": {},
     "output_type": "execute_result"
    },
    {
     "data": {
      "text/plain": [
       "0.04649650000000005"
      ]
     },
     "execution_count": 67,
     "metadata": {},
     "output_type": "execute_result"
    }
   ],
   "source": [
    "unemployment(graphs[\"f2/a\"][0][\"hist\"])\n",
    "unemployment(graphs[\"f2/b\"][0][\"hist\"])\n",
    "unemployment(graphs[\"f2/c\"][0][\"hist\"])\n",
    "unemployment(graphs[\"f2/d\"][0][\"hist\"])"
   ]
  },
  {
   "cell_type": "markdown",
   "metadata": {
    "deletable": true,
    "editable": true
   },
   "source": [
    "No, but their footnotes 8 and 9 are not encouraging:\n",
    "\n",
    "_The numbers for more than one agent are obtained from simulations in Maple􏰥. We simulate the economy over a large number of periods (hundreds of thousands) and calculate observed unemployment averages and correlations. The programs are available upon request from the authors. The correlation numbers are only moderately accurate, even after several hundred thousand periods._\n",
    "\n",
    "_In some cases, the correlations are indistinguishable to the accuracy of our simulations._\n",
    "\n",
    "If I use as few iterations, I can reproduce their numbers."
   ]
  },
  {
   "cell_type": "markdown",
   "metadata": {
    "deletable": true,
    "editable": true
   },
   "source": [
    "### The Corr(s₁ s₂) are --, 0.041, 0.025, and 0.025."
   ]
  },
  {
   "cell_type": "code",
   "execution_count": 29,
   "metadata": {
    "collapsed": false,
    "deletable": true,
    "editable": true
   },
   "outputs": [
    {
     "data": {
      "text/plain": [
       "-0.0071912270432927155"
      ]
     },
     "execution_count": 29,
     "metadata": {},
     "output_type": "execute_result"
    },
    {
     "data": {
      "text/plain": [
       "0.034276845524049464"
      ]
     },
     "execution_count": 29,
     "metadata": {},
     "output_type": "execute_result"
    },
    {
     "data": {
      "text/plain": [
       "0.03273460330759649"
      ]
     },
     "execution_count": 29,
     "metadata": {},
     "output_type": "execute_result"
    },
    {
     "data": {
      "text/plain": [
       "0.018672164712226862"
      ]
     },
     "execution_count": 29,
     "metadata": {},
     "output_type": "execute_result"
    }
   ],
   "source": [
    "correlation(graphs[\"f2/a\"][0][\"hist\"], graphs[\"f2/a\"][1][\"hist\"])\n",
    "correlation(graphs[\"f2/b\"][0][\"hist\"], graphs[\"f2/b\"][1][\"hist\"])\n",
    "correlation(graphs[\"f2/c\"][0][\"hist\"], graphs[\"f2/c\"][1][\"hist\"])\n",
    "correlation(graphs[\"f2/d\"][0][\"hist\"], graphs[\"f2/d\"][1][\"hist\"])"
   ]
  },
  {
   "cell_type": "markdown",
   "metadata": {
    "deletable": true,
    "editable": true
   },
   "source": [
    "### Figure 4: The employment rates for types 1, 2, and 3 are 0.047, 0.048, and 0.050."
   ]
  },
  {
   "cell_type": "code",
   "execution_count": 82,
   "metadata": {
    "collapsed": false,
    "deletable": true,
    "editable": true
   },
   "outputs": [
    {
     "name": "stdout",
     "output_type": "stream",
     "text": [
      "1 :: 0.0454\n",
      "2 :: 0.0456\n",
      "3 :: 0.0460\n",
      "4 :: 0.0461\n",
      "5 :: 0.0460\n",
      "6 :: 0.0455\n",
      "7 :: 0.0458\n",
      "8 :: 0.0461\n",
      "9 :: 0.0460\n",
      "10 :: 0.0456\n"
     ]
    },
    {
     "data": {
      "text/plain": [
       "0.04544490000000001"
      ]
     },
     "execution_count": 82,
     "metadata": {},
     "output_type": "execute_result"
    },
    {
     "data": {
      "text/plain": [
       "0.045725425000000014"
      ]
     },
     "execution_count": 82,
     "metadata": {},
     "output_type": "execute_result"
    },
    {
     "data": {
      "text/plain": [
       "0.04603145"
      ]
     },
     "execution_count": 82,
     "metadata": {},
     "output_type": "execute_result"
    }
   ],
   "source": [
    "iterate(graphs[\"f4/a\"], N = 10000000)\n",
    "\n",
    "unemp_rates = {}\n",
    "for node in range(10):\n",
    "    unemp_rates[node+1] = unemployment(graphs[\"f4/a\"][node][\"hist\"])\n",
    "    print(\"{:d} :: {:.4f}\".format(node+1, unemp_rates[node+1]))\n",
    "\n",
    "(unemp_rates[1] + unemp_rates[6])/2\n",
    "(unemp_rates[2] + unemp_rates[5] + unemp_rates[7] + unemp_rates[10])/4\n",
    "(unemp_rates[3] + unemp_rates[4] + unemp_rates[8] + unemp_rates[9]) /4"
   ]
  },
  {
   "cell_type": "markdown",
   "metadata": {
    "deletable": true,
    "editable": true
   },
   "source": [
    "### The average path length matters for unemployment\n",
    "\n",
    "We can get the path lengths right, but the employment rates are slightly lower than they quote, and only very slightly different."
   ]
  },
  {
   "cell_type": "code",
   "execution_count": 86,
   "metadata": {
    "collapsed": false,
    "deletable": true,
    "editable": true
   },
   "outputs": [
    {
     "data": {
      "text/plain": [
       "(1.5714285714285714, 1.7857142857142856)"
      ]
     },
     "execution_count": 86,
     "metadata": {},
     "output_type": "execute_result"
    }
   ],
   "source": [
    "def avg_path_length_single(node, graph):\n",
    "    \n",
    "    max_d = 0\n",
    "    dist  = {node : 0}\n",
    "    nodes = {n[\"id\"] for n in graph}\n",
    "    \n",
    "    while max_d in dist.values():\n",
    "        for n in graph:\n",
    "            if n[\"id\"] in dist and dist[n[\"id\"]] == max_d:\n",
    "                for nei in n[\"nei\"]:\n",
    "                    if nei not in dist:\n",
    "                        dist[nei] = max_d+1\n",
    "            \n",
    "        max_d += 1\n",
    "        \n",
    "        # print(node, max_d, [k for k, v in dist.items() if v == max_d])\n",
    "    \n",
    "    if len(nodes) > len(dist):\n",
    "        return float('inf')\n",
    "    else:\n",
    "        return sum(dist.values())/(len(dist)-1)\n",
    "    \n",
    "    \n",
    "def avg_path_length(graph = graphs[\"f5/a\"]):\n",
    "    \n",
    "    return sum([avg_path_length_single(n[\"id\"], graph) for n in graph])/len(graph)\n",
    "    \n",
    "    \n",
    "avg_path_length(graphs[\"f5/a\"]), avg_path_length(graphs[\"f5/b\"])"
   ]
  },
  {
   "cell_type": "code",
   "execution_count": 85,
   "metadata": {
    "collapsed": false,
    "deletable": true,
    "editable": true
   },
   "outputs": [
    {
     "data": {
      "text/plain": [
       "0.045372625"
      ]
     },
     "execution_count": 85,
     "metadata": {},
     "output_type": "execute_result"
    },
    {
     "data": {
      "text/plain": [
       "0.045636575"
      ]
     },
     "execution_count": 85,
     "metadata": {},
     "output_type": "execute_result"
    }
   ],
   "source": [
    "iterate(graphs[\"f5/a\"], N = 5000000)\n",
    "iterate(graphs[\"f5/b\"], N = 5000000)\n",
    "\n",
    "sum([unemployment(graphs[\"f5/a\"][n][\"hist\"]) for n in range(8)])/8\n",
    "sum([unemployment(graphs[\"f5/b\"][n][\"hist\"]) for n in range(8)])/8"
   ]
  },
  {
   "cell_type": "markdown",
   "metadata": {
    "deletable": true,
    "editable": true
   },
   "source": [
    "### §III, Fig. 6: for connected agents, expectations of next-round employment fall with length of unemployment duration, because duration is indicative of peers current status."
   ]
  },
  {
   "cell_type": "code",
   "execution_count": 87,
   "metadata": {
    "collapsed": false,
    "deletable": true,
    "editable": true
   },
   "outputs": [
    {
     "data": {
      "text/plain": [
       "0.17641169095230647"
      ]
     },
     "execution_count": 87,
     "metadata": {},
     "output_type": "execute_result"
    },
    {
     "data": {
      "text/plain": [
       "0.17562580068709266"
      ]
     },
     "execution_count": 87,
     "metadata": {},
     "output_type": "execute_result"
    },
    {
     "data": {
      "text/plain": [
       "0.16915588556205807"
      ]
     },
     "execution_count": 87,
     "metadata": {},
     "output_type": "execute_result"
    },
    {
     "data": {
      "text/plain": [
       "0.1603089875450245"
      ]
     },
     "execution_count": 87,
     "metadata": {},
     "output_type": "execute_result"
    },
    {
     "data": {
      "text/plain": [
       "0.30672416203370145"
      ]
     },
     "execution_count": 87,
     "metadata": {},
     "output_type": "execute_result"
    },
    {
     "data": {
      "text/plain": [
       "0.30213526333259916"
      ]
     },
     "execution_count": 87,
     "metadata": {},
     "output_type": "execute_result"
    },
    {
     "data": {
      "text/plain": [
       "0.2675789376358005"
      ]
     },
     "execution_count": 87,
     "metadata": {},
     "output_type": "execute_result"
    },
    {
     "data": {
      "text/plain": [
       "0.2674897119341564"
      ]
     },
     "execution_count": 87,
     "metadata": {},
     "output_type": "execute_result"
    }
   ],
   "source": [
    "def conditional_prob_periods(hist, periods):\n",
    "    \n",
    "    cond = []\n",
    "    for xi in range(periods, len(hist)):\n",
    "        if not any([hist[xpi] for xpi in range(xi-periods, xi)]):\n",
    "            cond.append(hist[xi])\n",
    "            \n",
    "    return sum(cond)/len(cond)\n",
    "\n",
    "conditional_prob_periods(graphs[\"f2/b\"][0][\"hist\"], 1)\n",
    "conditional_prob_periods(graphs[\"f2/b\"][0][\"hist\"], 2)\n",
    "conditional_prob_periods(graphs[\"f2/b\"][0][\"hist\"], 10)\n",
    "conditional_prob_periods(graphs[\"f2/b\"][0][\"hist\"], 20)\n",
    "\n",
    "conditional_prob_periods(graphs[\"f2/d\"][0][\"hist\"], 1)\n",
    "conditional_prob_periods(graphs[\"f2/d\"][0][\"hist\"], 2)\n",
    "conditional_prob_periods(graphs[\"f2/d\"][0][\"hist\"], 10)\n",
    "conditional_prob_periods(graphs[\"f2/d\"][0][\"hist\"], 20)"
   ]
  },
  {
   "cell_type": "code",
   "execution_count": null,
   "metadata": {
    "collapsed": true,
    "deletable": true,
    "editable": true
   },
   "outputs": [],
   "source": []
  }
 ],
 "metadata": {
  "anaconda-cloud": {},
  "kernelspec": {
   "display_name": "Python [conda root]",
   "language": "python",
   "name": "conda-root-py"
  },
  "language_info": {
   "codemirror_mode": {
    "name": "ipython",
    "version": 3
   },
   "file_extension": ".py",
   "mimetype": "text/x-python",
   "name": "python",
   "nbconvert_exporter": "python",
   "pygments_lexer": "ipython3",
   "version": "3.5.3"
  }
 },
 "nbformat": 4,
 "nbformat_minor": 2
}
