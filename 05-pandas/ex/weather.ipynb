{
 "cells": [
  {
   "cell_type": "code",
   "execution_count": null,
   "metadata": {
    "collapsed": false
   },
   "outputs": [],
   "source": [
    "import pandas as pd\n",
    "import matplotlib.pyplot as plt\n",
    "import seaborn as sns\n",
    "from scipy import stats\n",
    "\n",
    "import statsmodels.formula.api as sm\n",
    "\n",
    "# black magic\n",
    "%matplotlib inline"
   ]
  },
  {
   "cell_type": "markdown",
   "metadata": {},
   "source": [
    "We'll also need the timezone package, to deal with times in UTC."
   ]
  },
  {
   "cell_type": "code",
   "execution_count": null,
   "metadata": {
    "collapsed": true
   },
   "outputs": [],
   "source": [
    "import pytz"
   ]
  },
  {
   "cell_type": "markdown",
   "metadata": {},
   "source": [
    "## Start by Preparing the Temperature Data"
   ]
  },
  {
   "cell_type": "code",
   "execution_count": null,
   "metadata": {
    "collapsed": false
   },
   "outputs": [],
   "source": [
    "# Load\n",
    "df = pd.read_csv(\"weather_2013-2016\")\n",
    "\n",
    "# Drop a few bogus values\n",
    "df = df[df['TemperatureF'] != -9999.0]\n",
    "df[\"PrecipitationIn\"].fillna(0, inplace = True)\n",
    "\n",
    "# Set the time as the index and resample\n",
    "df = df.set_index(pd.DatetimeIndex(df['DateUTC']))"
   ]
  },
  {
   "cell_type": "markdown",
   "metadata": {},
   "source": [
    "**Let's convert from UTC to Central Time.**\n",
    "\n",
    "This must follow the resampling, since there's a bug in resampling over DST borders."
   ]
  },
  {
   "cell_type": "code",
   "execution_count": null,
   "metadata": {
    "collapsed": false
   },
   "outputs": [],
   "source": [
    "ts_utc = df.index.tz_localize(pytz.UTC)\n",
    "df = df.set_index(ts_utc.tz_convert(pytz.timezone('US/Central')))"
   ]
  },
  {
   "cell_type": "markdown",
   "metadata": {},
   "source": [
    "N.B., faster, less readable resampling alternative:\n",
    "\n",
    "```\n",
    "df = df.set_index(pd.DatetimeIndex(df['DateUTC']).tz_localize(pytz.UTC))\n",
    "df = df.resample('2H').mean()\n",
    "df = df.set_index(df.index.tz_convert(pytz.timezone('US/Central')))\n",
    "```"
   ]
  },
  {
   "cell_type": "code",
   "execution_count": null,
   "metadata": {
    "collapsed": false
   },
   "outputs": [],
   "source": [
    "evening_temp = df[df.index.hour >= 18]\n",
    "evening_temp_agg = evening_temp.groupby(evening_temp.index.date).mean()\n",
    "evening_temp_agg.index.rename(\"Date\", inplace = True)\n",
    "\n",
    "evening_temp_agg[[\"TemperatureF\", \"PrecipitationIn\"]]\\\n",
    "  .rename(columns = {\"TemperatureF\" : \"Temperature [F]\", \"PrecipitationIn\" : \"Precipitation [In]\"})\\\n",
    "  .to_csv(\"evening_temp_agg.csv\")"
   ]
  },
  {
   "cell_type": "code",
   "execution_count": null,
   "metadata": {
    "collapsed": false
   },
   "outputs": [],
   "source": [
    "evening_temp_agg.plot(use_index = True, y = \"TemperatureF\", legend = False, title = 'Temperature [F]')"
   ]
  },
  {
   "cell_type": "markdown",
   "metadata": {},
   "source": [
    "## Now Prepare Crime on the Same Index"
   ]
  },
  {
   "cell_type": "code",
   "execution_count": null,
   "metadata": {
    "collapsed": false
   },
   "outputs": [],
   "source": [
    "if False: # Do this from scratch -- long operation\n",
    "\n",
    "    crime_df = pd.read_csv(\"chicago_crime.csv\", parse_dates = {'time': ['Date']}, index_col = 'time')\n",
    "    crime_df = crime_df[crime_df['Primary Type'] != 'DECEPTIVE PRACTICE']\n",
    "\n",
    "    crime_cases = crime_df[['Case Number']]\n",
    "    evening_crime = crime_cases[crime_cases.index.hour >= 18]\n",
    "    evening_crime_agg = evening_crime.groupby(pd.DatetimeIndex(evening_crime.index.date)).count()\n",
    "    evening_crime_agg.index.rename(\"Date\", inplace = True)\n",
    "    \n",
    "    evening_crime_agg.to_csv(\"evening_crime_agg.csv\")\n"
   ]
  },
  {
   "cell_type": "markdown",
   "metadata": {
    "collapsed": false
   },
   "source": [
    "`# crime_df = crime_df.set_index(pd.DatetimeIndex(crime_df['Date']).tz_localize(pytz.timezone('US/Central'))`"
   ]
  },
  {
   "cell_type": "code",
   "execution_count": null,
   "metadata": {
    "collapsed": false
   },
   "outputs": [],
   "source": [
    "evening_crime_agg = pd.read_csv(\"evening_crime_agg.csv\", index_col = 'Date', parse_dates = ['Date'])"
   ]
  },
  {
   "cell_type": "markdown",
   "metadata": {},
   "source": [
    "## Now Merge Them"
   ]
  },
  {
   "cell_type": "code",
   "execution_count": null,
   "metadata": {
    "collapsed": true
   },
   "outputs": [],
   "source": [
    "merge_df = evening_crime_agg.join(evening_temp_agg[['TemperatureF', 'PrecipitationIn']])\n",
    "merge_df.rename(columns={'TemperatureF': 'Temperature [F]', 'Case Number': 'Number of Crimes', 'PrecipitationIn':'Precipitation [In]'}, inplace=True)"
   ]
  },
  {
   "cell_type": "markdown",
   "metadata": {},
   "source": [
    "### Plot it."
   ]
  },
  {
   "cell_type": "code",
   "execution_count": null,
   "metadata": {
    "collapsed": false
   },
   "outputs": [],
   "source": [
    "fig, ax = plt.subplots()\n",
    "sns.regplot(data = merge_df, x = 'Temperature [F]', y = \"Number of Crimes\", ax = ax)\n",
    "sns.regplot(data = merge_df[merge_df['Precipitation [In]'] != 0], x = 'Temperature [F]', y = \"Number of Crimes\", color = 'r', ax = ax)"
   ]
  },
  {
   "cell_type": "code",
   "execution_count": null,
   "metadata": {
    "collapsed": false
   },
   "outputs": [],
   "source": [
    "stats.ttest_ind(merge_df[merge_df['Precipitation [In]'] == 0][\"Number of Crimes\"], \n",
    "                merge_df[merge_df['Precipitation [In]'] != 0][\"Number of Crimes\"])"
   ]
  },
  {
   "cell_type": "markdown",
   "metadata": {},
   "source": [
    "### Which Days of the Week are Worst?"
   ]
  },
  {
   "cell_type": "code",
   "execution_count": null,
   "metadata": {
    "collapsed": false
   },
   "outputs": [],
   "source": [
    "merge_df['Day of Week'] = merge_df.index.dayofweek\n",
    "\n",
    "fig, ax = plt.subplots(figsize=(8,6))\n",
    "for label, df in merge_df.groupby(merge_df.index.dayofweek):\n",
    "    df.plot(kind = 'kde', sharex = True, x = 'Day of Week', y = 'Number of Crimes', ax=ax, label=label)\n",
    "\n",
    "merge_df.groupby(merge_df.index.dayofweek).mean()"
   ]
  },
  {
   "cell_type": "markdown",
   "metadata": {},
   "source": [
    "### Create Lagged Shift Column"
   ]
  },
  {
   "cell_type": "code",
   "execution_count": null,
   "metadata": {
    "collapsed": false
   },
   "outputs": [],
   "source": [
    "merge_df['Lagged Shift [F]'] = merge_df['Temperature [F]'] - merge_df['Temperature [F]'].rolling(window = 3, center = False).mean().shift(1)\n",
    "\n",
    "merge_df['Split Window [F]'] = merge_df['Temperature [F]'] - \\\n",
    "                                0.5 * (merge_df['Temperature [F]'].rolling(window = 3, center = False).mean().shift(-3) +\n",
    "                                       merge_df['Temperature [F]'].rolling(window = 3, center = False).mean().shift(1))\n",
    "\n",
    "merge_df.dropna(inplace = True)\n",
    "    \n",
    "# merge_df = evening_crime_agg.join(evening_temp_agg[['Lagged Shift [F]', \"PrecipitationIn\"]])\n",
    "# merge_df.rename(columns={'Case Number': 'Number of Crimes'}, inplace=True)\n",
    "# merge_df.plot(kind='scatter', x = 'Lagged Shift [F]', y = 'Number of Crimes')"
   ]
  },
  {
   "cell_type": "code",
   "execution_count": null,
   "metadata": {
    "collapsed": false
   },
   "outputs": [],
   "source": [
    "fig, ax = plt.subplots()\n",
    "sns.regplot(data = merge_df, x = 'Split Window [F]', y = \"Number of Crimes\", ax = ax)\n",
    "sns.regplot(data = merge_df[merge_df['Precipitation [In]'] != 0], x = 'Split Window [F]', y = \"Number of Crimes\", ax = ax)\n",
    "\n",
    "fig, ax = plt.subplots()\n",
    "sns.regplot(data = merge_df, x = 'Lagged Shift [F]', y = \"Number of Crimes\", ax = ax)\n",
    "sns.regplot(data = merge_df[merge_df['Precipitation [In]'] != 0], x = 'Lagged Shift [F]', y = \"Number of Crimes\", ax = ax)"
   ]
  },
  {
   "cell_type": "code",
   "execution_count": null,
   "metadata": {
    "collapsed": false
   },
   "outputs": [],
   "source": [
    "merge_df.rename(columns={'Lagged Shift [F]' : 'ShiftF', 'Number of Crimes' : 'NCrimes'}, inplace=True)\n",
    "\n",
    "model = sm.ols(formula = 'NCrimes ~ ShiftF', data = merge_df).fit()\n",
    "model.summary()"
   ]
  },
  {
   "cell_type": "code",
   "execution_count": null,
   "metadata": {
    "collapsed": false
   },
   "outputs": [],
   "source": [
    "slope, intercept, r_value, p_value, std_err = stats.linregress(merge_df['ShiftF'], merge_df['NCrimes'])\n",
    "print(slope/std_err)"
   ]
  },
  {
   "cell_type": "code",
   "execution_count": null,
   "metadata": {
    "collapsed": false
   },
   "outputs": [],
   "source": [
    "pd.tools.plotting.scatter_matrix(merge_df[['ShiftF', 'Split Window [F]', 'NCrimes']])"
   ]
  }
 ],
 "metadata": {
  "anaconda-cloud": {},
  "kernelspec": {
   "display_name": "Python [conda root]",
   "language": "python",
   "name": "conda-root-py"
  },
  "language_info": {
   "codemirror_mode": {
    "name": "ipython",
    "version": 3
   },
   "file_extension": ".py",
   "mimetype": "text/x-python",
   "name": "python",
   "nbconvert_exporter": "python",
   "pygments_lexer": "ipython3",
   "version": "3.5.2"
  }
 },
 "nbformat": 4,
 "nbformat_minor": 0
}
