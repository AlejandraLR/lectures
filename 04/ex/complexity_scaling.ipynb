{
 "cells": [
  {
   "cell_type": "code",
   "execution_count": 2,
   "metadata": {
    "collapsed": true
   },
   "outputs": [],
   "source": [
    "import pandas as pd\n",
    "import numpy as np\n",
    "%matplotlib inline\n",
    "import random\n",
    "import matplotlib.pyplot as plt\n",
    "import seaborn as sns\n",
    "import time"
   ]
  },
  {
   "cell_type": "code",
   "execution_count": 3,
   "metadata": {
    "collapsed": false
   },
   "outputs": [
    {
     "name": "stdout",
     "output_type": "stream",
     "text": [
      "0 9.5367431640625e-07\n",
      "1000 0.0588839054107666\n",
      "2000 0.16203093528747559\n",
      "3000 0.3681638240814209\n",
      "4000 0.6579930782318115\n",
      "5000 1.1703009605407715\n",
      "6000 1.836273193359375\n",
      "7000 2.074368953704834\n",
      "8000 2.678208112716675\n",
      "9000 3.206552028656006\n",
      "10000 3.907796859741211\n",
      "11000 4.640864133834839\n",
      "12000 6.179374933242798\n",
      "13000 7.951981067657471\n",
      "14000 8.581130981445312\n",
      "15000 9.071255922317505\n",
      "16000 11.149094820022583\n",
      "17000 12.245162963867188\n",
      "18000 14.310895919799805\n",
      "19000 16.477358102798462\n",
      "20000 16.43735694885254\n"
     ]
    }
   ],
   "source": [
    "num, val = [n for n in range(0, 20001, 1000)], []\n",
    "\n",
    "for n in num:\n",
    "    \n",
    "    t0 = time.time()\n",
    "    for i1 in range(n):\n",
    "        for i2 in range(n):\n",
    "            pass\n",
    "    val.append(time.time() - t0)\n",
    "    print(n, val[-1])\n",
    "\n",
    "df2 = pd.DataFrame()\n",
    "df2['x'], df2['y'] = num, val"
   ]
  },
  {
   "cell_type": "code",
   "execution_count": 4,
   "metadata": {
    "collapsed": false
   },
   "outputs": [
    {
     "name": "stdout",
     "output_type": "stream",
     "text": [
      "0 1.9073486328125e-06\n",
      "200 0.24631309509277344\n",
      "400 2.2530460357666016\n",
      "600 8.995447874069214\n",
      "800 22.265347957611084\n",
      "1000 46.50631499290466\n"
     ]
    }
   ],
   "source": [
    "num, val = [n for n in range(0, 1001, 200)], []\n",
    "\n",
    "for n in num:\n",
    "    \n",
    "    t0 = time.time()\n",
    "    for i1 in range(n):\n",
    "        for i2 in range(n):\n",
    "            for i3 in range(n):\n",
    "                pass\n",
    "    val.append(time.time() - t0)\n",
    "    print(n, val[-1])\n",
    "\n",
    "df3 = pd.DataFrame()\n",
    "df3['x'], df3['y'] = num, val"
   ]
  },
  {
   "cell_type": "code",
   "execution_count": 24,
   "metadata": {
    "collapsed": false
   },
   "outputs": [
    {
     "data": {
      "image/png": "[encoded data removed]",
      "text/plain": [
       "<matplotlib.figure.Figure at 0x11a49fba8>"
      ]
     },
     "metadata": {},
     "output_type": "display_data"
    }
   ],
   "source": [
    "sns.set_style(\"darkgrid\", {\"axes.facecolor\": \".9\", 'legend.frameon': True})\n",
    "sns.plotting_context(\"notebook\", font_scale=5.5)\n",
    "\n",
    "ax = sns.regplot(x=\"x\", y=\"y\", data=df2, scatter_kws={\"s\": 80}, order=2, ci=None, truncate=True, label = '2 Loops: x²')\n",
    "ax = sns.regplot(x=\"x\", y=\"y\", data=df3, scatter_kws={\"s\": 80}, order=3, ci=None, truncate=True, label = '3 Loops: x³')\n",
    "ax.legend(loc=\"best\")\n",
    "ax.set(xlabel='N', ylabel='Time [seconds]', ylim=(-2, 30), xlim=(0, 20000))\n",
    "fig = ax.get_figure()\n",
    "\n",
    "\n",
    "fig.savefig(\"scaling.pdf\")"
   ]
  },
  {
   "cell_type": "code",
   "execution_count": 7,
   "metadata": {
    "collapsed": false
   },
   "outputs": [
    {
     "data": {
      "text/html": [
       "<table class=\"simpletable\">\n",
       "<caption>OLS Regression Results</caption>\n",
       "<tr>\n",
       "  <th>Dep. Variable:</th>            <td>y</td>        <th>  R-squared:         </th> <td>   0.995</td>\n",
       "</tr>\n",
       "<tr>\n",
       "  <th>Model:</th>                   <td>OLS</td>       <th>  Adj. R-squared:    </th> <td>   0.994</td>\n",
       "</tr>\n",
       "<tr>\n",
       "  <th>Method:</th>             <td>Least Squares</td>  <th>  F-statistic:       </th> <td>   1761.</td>\n",
       "</tr>\n",
       "<tr>\n",
       "  <th>Date:</th>             <td>Thu, 29 Sep 2016</td> <th>  Prob (F-statistic):</th> <td>2.27e-21</td>\n",
       "</tr>\n",
       "<tr>\n",
       "  <th>Time:</th>                 <td>19:35:26</td>     <th>  Log-Likelihood:    </th> <td> -9.8801</td>\n",
       "</tr>\n",
       "<tr>\n",
       "  <th>No. Observations:</th>      <td>    21</td>      <th>  AIC:               </th> <td>   25.76</td>\n",
       "</tr>\n",
       "<tr>\n",
       "  <th>Df Residuals:</th>          <td>    18</td>      <th>  BIC:               </th> <td>   28.89</td>\n",
       "</tr>\n",
       "<tr>\n",
       "  <th>Df Model:</th>              <td>     2</td>      <th>                     </th>     <td> </td>   \n",
       "</tr>\n",
       "<tr>\n",
       "  <th>Covariance Type:</th>      <td>nonrobust</td>    <th>                     </th>     <td> </td>   \n",
       "</tr>\n",
       "</table>\n",
       "<table class=\"simpletable\">\n",
       "<tr>\n",
       "         <td></td>           <th>coef</th>     <th>std err</th>      <th>t</th>      <th>P>|t|</th> <th>[95.0% Conf. Int.]</th> \n",
       "</tr>\n",
       "<tr>\n",
       "  <th>Intercept</th>      <td>    0.0447</td> <td>    0.250</td> <td>    0.179</td> <td> 0.860</td> <td>   -0.480     0.569</td>\n",
       "</tr>\n",
       "<tr>\n",
       "  <th>np.power(x, 2)</th> <td> 4.425e-08</td> <td> 2.79e-09</td> <td>   15.843</td> <td> 0.000</td> <td> 3.84e-08  5.01e-08</td>\n",
       "</tr>\n",
       "<tr>\n",
       "  <th>np.power(x, 1)</th> <td>-2.277e-05</td> <td> 5.79e-05</td> <td>   -0.394</td> <td> 0.699</td> <td>   -0.000  9.88e-05</td>\n",
       "</tr>\n",
       "</table>\n",
       "<table class=\"simpletable\">\n",
       "<tr>\n",
       "  <th>Omnibus:</th>       <td> 1.399</td> <th>  Durbin-Watson:     </th> <td>   1.963</td>\n",
       "</tr>\n",
       "<tr>\n",
       "  <th>Prob(Omnibus):</th> <td> 0.497</td> <th>  Jarque-Bera (JB):  </th> <td>   0.295</td>\n",
       "</tr>\n",
       "<tr>\n",
       "  <th>Skew:</th>          <td> 0.130</td> <th>  Prob(JB):          </th> <td>   0.863</td>\n",
       "</tr>\n",
       "<tr>\n",
       "  <th>Kurtosis:</th>      <td> 3.519</td> <th>  Cond. No.          </th> <td>5.07e+08</td>\n",
       "</tr>\n",
       "</table>"
      ],
      "text/plain": [
       "<class 'statsmodels.iolib.summary.Summary'>\n",
       "\"\"\"\n",
       "                            OLS Regression Results                            \n",
       "==============================================================================\n",
       "Dep. Variable:                      y   R-squared:                       0.995\n",
       "Model:                            OLS   Adj. R-squared:                  0.994\n",
       "Method:                 Least Squares   F-statistic:                     1761.\n",
       "Date:                Thu, 29 Sep 2016   Prob (F-statistic):           2.27e-21\n",
       "Time:                        19:35:26   Log-Likelihood:                -9.8801\n",
       "No. Observations:                  21   AIC:                             25.76\n",
       "Df Residuals:                      18   BIC:                             28.89\n",
       "Df Model:                           2                                         \n",
       "Covariance Type:            nonrobust                                         \n",
       "==================================================================================\n",
       "                     coef    std err          t      P>|t|      [95.0% Conf. Int.]\n",
       "----------------------------------------------------------------------------------\n",
       "Intercept          0.0447      0.250      0.179      0.860        -0.480     0.569\n",
       "np.power(x, 2)  4.425e-08   2.79e-09     15.843      0.000      3.84e-08  5.01e-08\n",
       "np.power(x, 1) -2.277e-05   5.79e-05     -0.394      0.699        -0.000  9.88e-05\n",
       "==============================================================================\n",
       "Omnibus:                        1.399   Durbin-Watson:                   1.963\n",
       "Prob(Omnibus):                  0.497   Jarque-Bera (JB):                0.295\n",
       "Skew:                           0.130   Prob(JB):                        0.863\n",
       "Kurtosis:                       3.519   Cond. No.                     5.07e+08\n",
       "==============================================================================\n",
       "\n",
       "Warnings:\n",
       "[1] Standard Errors assume that the covariance matrix of the errors is correctly specified.\n",
       "[2] The condition number is large, 5.07e+08. This might indicate that there are\n",
       "strong multicollinearity or other numerical problems.\n",
       "\"\"\""
      ]
     },
     "execution_count": 7,
     "metadata": {},
     "output_type": "execute_result"
    }
   ],
   "source": [
    "import statsmodels.formula.api as sm\n",
    "\n",
    "model = sm.ols(formula = 'y ~ np.power(x, 2) + np.power(x, 1)', data = df2).fit()\n",
    "model.summary()"
   ]
  },
  {
   "cell_type": "code",
   "execution_count": 53,
   "metadata": {
    "collapsed": false
   },
   "outputs": [
    {
     "data": {
      "image/png": "[encoded data removed]",
      "text/plain": [
       "<matplotlib.figure.Figure at 0x10f1c5e10>"
      ]
     },
     "metadata": {},
     "output_type": "display_data"
    }
   ],
   "source": [
    "import matplotlib.pyplot as plt\n",
    "from random import random\n",
    "%matplotlib inline\n",
    "\n",
    "x, y = [], []\n",
    "for n in range(1000):\n",
    "    \n",
    "    xi, yi = random() - 0.5, random() - 0.5\n",
    "    if xi*xi + yi*yi > 0.25: continue\n",
    "    \n",
    "    x.append(xi)\n",
    "    y.append(yi)\n",
    "\n",
    "plt.axis('equal')\n",
    "plt.axis('off')\n",
    "plt.scatter(x, y, color = \"b\", s = 1.)\n",
    "plt.tight_layout()\n",
    "plt.savefig('circle_points.pdf',dpi=300)    \n",
    "    "
   ]
  },
  {
   "cell_type": "code",
   "execution_count": null,
   "metadata": {
    "collapsed": true
   },
   "outputs": [],
   "source": []
  }
 ],
 "metadata": {
  "kernelspec": {
   "display_name": "Python [Root]",
   "language": "python",
   "name": "Python [Root]"
  },
  "language_info": {
   "codemirror_mode": {
    "name": "ipython",
    "version": 3
   },
   "file_extension": ".py",
   "mimetype": "text/x-python",
   "name": "python",
   "nbconvert_exporter": "python",
   "pygments_lexer": "ipython3",
   "version": "3.5.2"
  }
 },
 "nbformat": 4,
 "nbformat_minor": 0
}
