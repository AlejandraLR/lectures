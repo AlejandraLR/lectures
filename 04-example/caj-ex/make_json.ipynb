{
 "cells": [
  {
   "cell_type": "code",
   "execution_count": null,
   "metadata": {
    "collapsed": true
   },
   "outputs": [],
   "source": [
    "import json\n",
    "import pydotplus as pdp\n",
    "from IPython.display import Image  \n",
    "from glob import glob\n",
    "\n",
    "from IPython.core.interactiveshell import InteractiveShell\n",
    "InteractiveShell.ast_node_interactivity = \"all\""
   ]
  },
  {
   "cell_type": "markdown",
   "metadata": {},
   "source": [
    "## Convert the dot files to json for the demo."
   ]
  },
  {
   "cell_type": "code",
   "execution_count": null,
   "metadata": {
    "collapsed": true
   },
   "outputs": [],
   "source": [
    "for f in glob(\"f*/*.dot\"):\n",
    "    \n",
    "    graph = pdp.graphviz.graph_from_dot_file(f)\n",
    "\n",
    "    edges = sorted([(int(e.get_source()), int(e.get_destination())) for e in graph.get_edge_list()])\n",
    "    nodes = sorted([int(n.get_label()) for n in graph.get_node_list() if n.get_label()])\n",
    "\n",
    "    j = []\n",
    "    for n in nodes:\n",
    "        j.append({\"id\" : n, \"nei\" : []})\n",
    "        for e in edges:\n",
    "            if n in e:\n",
    "                j[-1][\"nei\"].append(e[0] if e[1] == n else e[1])\n",
    "                \n",
    "    with open(f.replace(\"dot\", \"json\"), \"w\") as out:\n",
    "        json.dump(j, out)"
   ]
  },
  {
   "cell_type": "markdown",
   "metadata": {},
   "source": [
    "This is just a closure check, that I \"retrieve\" the right diagrams."
   ]
  },
  {
   "cell_type": "code",
   "execution_count": null,
   "metadata": {
    "collapsed": false
   },
   "outputs": [],
   "source": [
    "for f in glob(\"f*/*.json\"):\n",
    "    \n",
    "    graph = pdp.Dot(graph_type='graph')\n",
    "\n",
    "    with open(f) as i: \n",
    "        j = json.load(i)\n",
    "        \n",
    "    nodes = []\n",
    "    for n in j:\n",
    "        nodes.append(pdp.Node(str(n[\"id\"])))\n",
    "        graph.add_node(nodes[-1])\n",
    "\n",
    "    for n in j:\n",
    "        for e in n[\"nei\"]:\n",
    "            if e < n[\"id\"]: continue\n",
    "            graph.add_edge(pdp.Edge(nodes[e-1], nodes[n[\"id\"]-1]))\n",
    "        \n",
    "        \n",
    "    Image(graph.create_png(prog = \"circo\"))"
   ]
  },
  {
   "cell_type": "code",
   "execution_count": null,
   "metadata": {
    "collapsed": false
   },
   "outputs": [],
   "source": [
    "for f in glob(\"f*/*.dot\"):\n",
    "    \n",
    "    graph = pdp.graphviz.graph_from_dot_file(f)\n",
    "    Image(graph.create_png(prog = \"neato\"))"
   ]
  }
 ],
 "metadata": {
  "anaconda-cloud": {},
  "kernelspec": {
   "display_name": "Python [conda root]",
   "language": "python",
   "name": "conda-root-py"
  },
  "language_info": {
   "codemirror_mode": {
    "name": "ipython",
    "version": 3
   },
   "file_extension": ".py",
   "mimetype": "text/x-python",
   "name": "python",
   "nbconvert_exporter": "python",
   "pygments_lexer": "ipython3",
   "version": "3.5.3"
  }
 },
 "nbformat": 4,
 "nbformat_minor": 2
}
