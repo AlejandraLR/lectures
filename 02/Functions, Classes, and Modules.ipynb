{
 "cells": [
  {
   "cell_type": "markdown",
   "metadata": {},
   "source": [
    "Check out the lectures, using \n",
    "\n",
    "If you've already checked it out, you can do: `git pull`."
   ]
  },
  {
   "cell_type": "markdown",
   "metadata": {},
   "source": [
    "# Functions, Classes, and Modules\n",
    "* We've already said that this class will combine low-level building blocks (for, while, if), with higher-level 'recipes.'\n",
    "* Today we take our first step in that direction: building reusable `functions` ourselves, and importing and using code that others have written.\n",
    "* Along the way, we'll learn about a new, important structure: classes."
   ]
  },
  {
   "cell_type": "markdown",
   "metadata": {},
   "source": [
    "## Functions\n",
    "* Functions allow us to write a single piece of code once, to reuse it with different arguments.\n",
    "* We are said to _call_ the function.\n",
    "* Functions may or may not return a value\n",
    "* We've already seen many built-in functions:"
   ]
  },
  {
   "cell_type": "code",
   "execution_count": null,
   "metadata": {
    "collapsed": false
   },
   "outputs": [],
   "source": [
    "print(\"print is, of course, a function\")"
   ]
  },
  {
   "cell_type": "code",
   "execution_count": null,
   "metadata": {
    "collapsed": false
   },
   "outputs": [],
   "source": [
    "type(32), type(3.2), int(3.5), \"a b c\".split()"
   ]
  },
  {
   "cell_type": "markdown",
   "metadata": {},
   "source": [
    "Actually, even operators are disguised functions: `+` is `__add__()`, `-` is `__sub__()`, etc."
   ]
  },
  {
   "cell_type": "code",
   "execution_count": null,
   "metadata": {
    "collapsed": false
   },
   "outputs": [],
   "source": [
    "a, b = 3, 5\n",
    "a + b, a.__add__(b), a - b, a.__sub__(b)"
   ]
  },
  {
   "cell_type": "markdown",
   "metadata": {},
   "source": [
    "You can see that these functions are not all the same:\n",
    "* `print()` and `type()` take arguments, but they are not called _on_ an object: there is no \"`.`\".\n",
    "* In contrast, `\"a b c\".split()` and `a.__add__(b)` are called _on_ the `string` `\"a b c\"` or the `int` variable `a`.  These are called _member functions_.  It is acting upon the object, possibly changing it:"
   ]
  },
  {
   "cell_type": "code",
   "execution_count": null,
   "metadata": {
    "collapsed": false
   },
   "outputs": [],
   "source": [
    "l = [2, 3, 1, 2] # define an unordered list\n",
    "print(l.sort()) # the member function _changes_ the object.\n",
    "print(l)"
   ]
  },
  {
   "cell_type": "markdown",
   "metadata": {},
   "source": [
    "**Open ex/ex1.py with atom.  Edit to:**\n",
    "* **<font color=darkred>Print, in alphabetical order, the fruit listed in ex1.py.</font>**\n",
    "* **<font color=darkred>for loop/if review: print only the berries.</font>**"
   ]
  },
  {
   "cell_type": "markdown",
   "metadata": {},
   "source": [
    "* Note that `type()` and `\"a b c\".split()` return values, while `print()` and (`['a', 'b', 'c']`), while `l.sort()` do not."
   ]
  },
  {
   "cell_type": "markdown",
   "metadata": {},
   "source": [
    "### User functions: `def`\n",
    "* To write our own functions, use the `def` keyword, and consistently indent the entire block."
   ]
  },
  {
   "cell_type": "code",
   "execution_count": null,
   "metadata": {
    "collapsed": false
   },
   "outputs": [],
   "source": [
    "def squared(v):\n",
    "    \n",
    "    print(\"{} squared is {}\".format(v, v * v))\n",
    "    \n",
    "squared(3)\n",
    "squared(9)"
   ]
  },
  {
   "cell_type": "markdown",
   "metadata": {},
   "source": [
    "You can have some optional parameters, by specifying a default value"
   ]
  },
  {
   "cell_type": "code",
   "execution_count": null,
   "metadata": {
    "collapsed": false
   },
   "outputs": [],
   "source": [
    "def power(v, exp = 2):\n",
    "    \n",
    "    print(\"{}^{} is {}\".format(v, exp, v ** exp))\n",
    "    \n",
    "power(3)\n",
    "power(3, 3)\n",
    "power(exp = 4, v = 3)\n",
    "# power(exp = 2) # this won't work: v is required."
   ]
  },
  {
   "cell_type": "markdown",
   "metadata": {},
   "source": [
    "All required arguments must precede the optional ones:"
   ]
  },
  {
   "cell_type": "markdown",
   "metadata": {},
   "source": [
    "```\n",
    "# This won't work, because v = 3 is trying to be optional.\n",
    "def power(v = 3, exp):\n",
    "    \n",
    "    print(\"{}^{} is {}\".format(v, exp, v ** exp))\n",
    "```"
   ]
  },
  {
   "cell_type": "markdown",
   "metadata": {},
   "source": [
    "### Returning values: `return`\n",
    "* Functions can also `return` one or many values.\n",
    "* Some people consider it good form to return a dictionary for many values."
   ]
  },
  {
   "cell_type": "code",
   "execution_count": null,
   "metadata": {
    "collapsed": false
   },
   "outputs": [],
   "source": [
    "def volume(l, w, h):\n",
    "    \n",
    "    return l * w * h\n",
    "\n",
    "def surface(l, w, h):\n",
    "    \n",
    "    return 2 * (l * w + l * h + w * h)\n",
    "\n",
    "def dimensions(l, w, h):\n",
    "    \n",
    "    return {\"surface\" : surface(l, w, h),\n",
    "            \"volume\"  : volume(l, w, h)}\n",
    "\n",
    "def dimensions_2(l, w, h):\n",
    "\n",
    "    return surface(l, w, h), volume(l, w, h)\n",
    "\n",
    "print(volume(2, 3, 4))\n",
    "print(surface(2, 3, 4))\n",
    "print(dimensions(2, 3, 4))\n",
    "print(dimensions_2(2, 3, 4))"
   ]
  },
  {
   "cell_type": "markdown",
   "metadata": {},
   "source": [
    "* Obviously, most functions do more than these."
   ]
  },
  {
   "cell_type": "markdown",
   "metadata": {},
   "source": [
    "## Lambda Functions\n",
    "* For very simple operations, there are also `lambda` functions:"
   ]
  },
  {
   "cell_type": "code",
   "execution_count": null,
   "metadata": {
    "collapsed": false
   },
   "outputs": [],
   "source": [
    "s = lambda l, w, h: 2 * (l * w + l * h + w * h)\n",
    "\n",
    "s(2, 3, 4)"
   ]
  },
  {
   "cell_type": "markdown",
   "metadata": {},
   "source": [
    "**Open up ex/ex2.py and ex/ex3.py with Atom.  Make the changes, then run them: python ex/ex2.py, etc.**\n",
    "* **<font color=darkred>Create a function to convert between unit lengths.</font>**\n",
    "  * Use the template convert(3, \"ft\", \"km\").\n",
    "  * Handle lightyears (\"ly\") kilometers (\"km\"), miles (\"mi\"), feet (\"ft\"), meters (\"m\"), cm (\"cm\"), and inches (\"in\").</font>\n",
    "  * You may find the following helpful:\n",
    "`mconv = {\"ly\" : 9.4605e15, \"km\" : 1000, \"m\" : 1, \"cm\" : 0.01, \"mi\" : 1609.344, \"ft\" : 0.3048}`\n",
    "* **<font color=darkred>Create a function that returns then nth prime.</font>**\n",
    "  * When you're done, think about the skeleton I provided is a BAD way to build up a list of primes.  How could you do this better?"
   ]
  },
  {
   "cell_type": "markdown",
   "metadata": {},
   "source": [
    "## Classes: Object Oriented Programming\n",
    "* Classes are an important element of **object oriented programming**.\n",
    "* They allow us to define a single object in code, to represent some more complex object.\n",
    "* It is consists of primitive data objects (int, float, etc.) and/or complex data types, and may have additional functions/methods defined.\n",
    "\n",
    "\n",
    "* The [official tutorial on classes](https://docs.python.org/3/tutorial/classes.html) is useful, though it's a bit technical."
   ]
  },
  {
   "cell_type": "markdown",
   "metadata": {},
   "source": [
    "For a simple example, we'll create a _person_ class.\n",
    "* The person should have a height, an age, and the ability to `grow()` or `age()`.\n",
    "* If we want to set up certain variables when we create the object, we use the `__init__()` function.\n",
    "* All member variables are written `self.var`.\n",
    "* Note that each method's first argument is `self` which is to say, _this object_.  The self argument is included automatically when the function is called."
   ]
  },
  {
   "cell_type": "code",
   "execution_count": null,
   "metadata": {
    "collapsed": false
   },
   "outputs": [],
   "source": [
    "class person:\n",
    "    \n",
    "    # this is the method used to\n",
    "    # initialize/declare the object.\n",
    "    def __init__(self, age, height):\n",
    "    \n",
    "        self.age    = age    # years\n",
    "        self.height = height # inches\n",
    "    \n",
    "    def grow(self, increment):\n",
    "        \n",
    "        self.height += increment\n",
    "    \n",
    "    def speak(self):\n",
    "        \n",
    "        sentence = \"I am {:.0f} ft, {:.1f} inches tall.\"\n",
    "        print(sentence.format(self.height//12, self.height % 12))\n",
    "        "
   ]
  },
  {
   "cell_type": "code",
   "execution_count": null,
   "metadata": {
    "collapsed": false,
    "scrolled": true
   },
   "outputs": [],
   "source": [
    "me = person(22, 68)\n",
    "me.speak()\n",
    "me.grow(0.2)\n",
    "me.speak()\n",
    "me.speak()\n",
    "me.speak()\n",
    "me.grow(0.8)\n",
    "me.speak()"
   ]
  },
  {
   "cell_type": "markdown",
   "metadata": {},
   "source": [
    "* In addition to `__init__()`, one can define the representation by `__repr__()` and the print format via `__str__()`.  \n",
    "* If it makes sense to do so, the arithmetic operators can also be defined.\n",
    "* And of course, any other function of your imagining."
   ]
  },
  {
   "cell_type": "code",
   "execution_count": null,
   "metadata": {
    "collapsed": true
   },
   "outputs": [],
   "source": [
    "class person:\n",
    "    \n",
    "    # this is the method used to\n",
    "    # initialize/declare the object.\n",
    "    def __init__(self, age, height):\n",
    "    \n",
    "        self.age    = age    # years\n",
    "        self.height = height # inches\n",
    "        \n",
    "    def __str__(self):\n",
    "        \n",
    "        return \"(person: {} yo, {:.0f} ft, {:.1f} inches)\"\\\n",
    "                .format(self.age, self.height//12, self.height % 12)\n",
    "        \n",
    "    def __repr__(self):\n",
    "        \n",
    "        return \"<person object, {:d} inches tall>\".format(self.height)\n",
    "        \n",
    "    def __add__(self, other):\n",
    "        \n",
    "        return person(0, 20)\n",
    "    \n",
    "    def grow(self, increment):\n",
    "        \n",
    "        self.height += increment \n",
    "        print(\"My goodness, you're tall!\")\n",
    "        \n",
    "    def birthday(self):\n",
    "        \n",
    "        self.age += 1\n",
    "        print(\"Happy Birthday -- you're {}!\".format(self.age))"
   ]
  },
  {
   "cell_type": "code",
   "execution_count": null,
   "metadata": {
    "collapsed": false
   },
   "outputs": [],
   "source": [
    "a = person(25, 68)\n",
    "b = person(25, 66)\n",
    "child = a + b\n",
    "child.birthday()\n",
    "child.birthday()\n",
    "child.birthday()\n",
    "print(child)\n",
    "child"
   ]
  },
  {
   "cell_type": "markdown",
   "metadata": {},
   "source": [
    "You will likely _use_ more classes than you will _make_, but it's useful to understand how they're built.  **Try modifying ex/ex4.py...**\n",
    "* **<font color=darkred>Two humans greet() one another politely.  For a dog, it is more appropriate to ask, \"Who's a good boy?  Is X a good boy?\" before scratching his or her ears (`d.happy_ears()`).</font>**\n",
    "  * Use \"`type(X) is person`\" or \"`type(X) is dog`\" to switch the human's greeting between human- and dog- appropriate implementations. "
   ]
  },
  {
   "cell_type": "markdown",
   "metadata": {},
   "source": [
    "### has-a v. is-a...\n",
    "* A (short term) easy way to expand our person class is to continue adding variables (eye color, hair color, job, address) and methods (dies, works, moves, etc.) to it.\n",
    "* But we can also create complex variables, and either include them in the person class, or _inherit_ from them.\n",
    "  * A person might _has_ two arm objects, and _is_ animal.\n",
    "  * A car _is_ a vehicle (with an inherent speed, capacity, etc.) that _has_ four wheels (which can spin, fall off, have sweet hub caps, etc.)\n",
    "* Adding the variable is done just like adding other variables.\n",
    "* _Inheritance_ is denoted, `class derived(base)`."
   ]
  },
  {
   "cell_type": "code",
   "execution_count": null,
   "metadata": {
    "collapsed": false
   },
   "outputs": [],
   "source": [
    "class animal:\n",
    "    \n",
    "    def __init__(self, heartbeat, body_temp):\n",
    "        \n",
    "        self.heartbeat = heartbeat\n",
    "        self.body_temp = body_temp\n",
    "        \n",
    "    def stethoscope(self):\n",
    "        \n",
    "        print(\"Kaboom, kaboom at {} bpm.\".format(self.heartbeat))\n",
    "    \n",
    "class hand:\n",
    "    \n",
    "    def __init__(self, side):\n",
    "    \n",
    "        self.side = side\n",
    "    \n",
    "    def waggle(self):\n",
    "        \n",
    "        print(\"Visual salutations from the {} hand!\".format(self.side))\n",
    "\n",
    "class person(animal):\n",
    "    \n",
    "    def __init__(self, heartbeat, body_temp, age, height):\n",
    "    \n",
    "        # we have to explicitly initialize the base class.\n",
    "        animal.__init__(self, heartbeat, body_temp)\n",
    "    \n",
    "        # the person has two hands, which we instantiate.\n",
    "        self.hands = [hand(\"left\"), hand(\"right\")]\n",
    "    \n",
    "    # while \"stethoscope\" passes right through,\n",
    "    # we have to actually create a method to use the hands.\n",
    "    def wave(self):\n",
    "    \n",
    "        for h in self.hands:\n",
    "            h.waggle()"
   ]
  },
  {
   "cell_type": "markdown",
   "metadata": {},
   "source": [
    "* Create a person object.  It _is_ an animal and has 2 hands.\n",
    "* We can understand this with the `isinstance` function -- like `type` but allowing for inheritance."
   ]
  },
  {
   "cell_type": "code",
   "execution_count": null,
   "metadata": {
    "collapsed": false
   },
   "outputs": [],
   "source": [
    "p = person(100, 37, 29, 68)\n",
    "isinstance(p, person), isinstance(p, animal), isinstance(p, hand)"
   ]
  },
  {
   "cell_type": "markdown",
   "metadata": {},
   "source": [
    "* The methods from animal (`stethoscope()`) pass straight through.\n",
    "* The `wave()` method of `person` uses the `waggle()` method of the hands."
   ]
  },
  {
   "cell_type": "code",
   "execution_count": null,
   "metadata": {
    "collapsed": false
   },
   "outputs": [],
   "source": [
    "p.stethoscope()\n",
    "p.wave()"
   ]
  },
  {
   "cell_type": "markdown",
   "metadata": {},
   "source": [
    "* In python, all variables are \"public.\"\n",
    "* That means that you can directly access and manipulate them."
   ]
  },
  {
   "cell_type": "code",
   "execution_count": null,
   "metadata": {
    "collapsed": false
   },
   "outputs": [],
   "source": [
    "p.hands[0].waggle()"
   ]
  },
  {
   "cell_type": "markdown",
   "metadata": {},
   "source": [
    "* The convention is that if you _really_ don't want your variables messed with, precede them with a single underscore.\n",
    "* However, generally, we can trust people not to do stupid things."
   ]
  },
  {
   "cell_type": "code",
   "execution_count": null,
   "metadata": {
    "collapsed": false
   },
   "outputs": [],
   "source": [
    "p.hands.append(hand(\"third\")) # possible, yes.\n",
    "p.hands[2].waggle()           # but stupid."
   ]
  },
  {
   "cell_type": "markdown",
   "metadata": {},
   "source": [
    "* The architecture is up to you; generally you _can_ write it either way.\n",
    "* Our person object could have _had_ a circulatory system with a heart beat and body temperature, instead of _being_ an animal.\n",
    "* It is not always clear if _is-a_ or _has-a_ is the right approach.  Do men and women _have_ different reproductive systems, or _are_ they both just _derived_ from a base _person_ object?"
   ]
  },
  {
   "cell_type": "markdown",
   "metadata": {},
   "source": [
    "### \"Lazy\" Classes\n",
    "As a final note, one does not need to write a full class.  It can just be shorthand for passing variables around.\n",
    "\n",
    "(N.B., \"lazy\" is not a technical term.)"
   ]
  },
  {
   "cell_type": "code",
   "execution_count": null,
   "metadata": {
    "collapsed": false
   },
   "outputs": [],
   "source": [
    "class useful(): pass\n",
    "\n",
    "v = useful()\n",
    "v.a = \"a\"\n",
    "v.b = \"b\"\n",
    "v.c = \"c\"\n",
    "print(v.a, v.b, v.c)"
   ]
  },
  {
   "cell_type": "markdown",
   "metadata": {},
   "source": [
    "## Modules\n",
    "* At the simplest level, a module is just any file of python code.\n",
    "* These modules save you work, and add to the potential of the language.\n",
    "  * They provide us with useful functions and classes.\n",
    "  * Who wants to write a sorting algorithm?  How about square root?\n",
    "* Typically, many modules are grouped in a `package`.\n",
    "* These packages will be the basis for almost all of our recipes."
   ]
  },
  {
   "cell_type": "markdown",
   "metadata": {},
   "source": [
    "### `import`\n",
    "* Let's start by _importing_ the `math` library: trigonometry, exponents, etc.\n",
    "* This basically 'loads' a bunch of constants and functions, expanding the potential of the 'calculator.'\n",
    "* See the full math library [here](https://docs.python.org/3.5/library/math.html)."
   ]
  },
  {
   "cell_type": "markdown",
   "metadata": {},
   "source": [
    "### Math"
   ]
  },
  {
   "cell_type": "code",
   "execution_count": null,
   "metadata": {
    "collapsed": false
   },
   "outputs": [],
   "source": [
    "import math"
   ]
  },
  {
   "cell_type": "markdown",
   "metadata": {},
   "source": [
    "We can get the constants:"
   ]
  },
  {
   "cell_type": "code",
   "execution_count": null,
   "metadata": {
    "collapsed": false
   },
   "outputs": [],
   "source": [
    "math.pi, math.e"
   ]
  },
  {
   "cell_type": "markdown",
   "metadata": {},
   "source": [
    "And the functions, like so:"
   ]
  },
  {
   "cell_type": "code",
   "execution_count": null,
   "metadata": {
    "collapsed": false
   },
   "outputs": [],
   "source": [
    "math.sqrt(9), math.pow(2, 0), math.cos(math.pi/4) ** 2, math.factorial(10), "
   ]
  },
  {
   "cell_type": "markdown",
   "metadata": {},
   "source": [
    "**Modify ex/ex5.py...**\n",
    "* <font color=darkred>**What are _e⁻¹_, _e⁰_, _e¹_ and _e²_?**</font>\n",
    "  * Use math.exp.\n",
    "* <font color=darkred>**Some problems are not exactly computable.  If we had to consider everyone possible ordering of 1000 items, how many combinations would this be?**</font>\n",
    "  * Use math.factorial.\n",
    "  * You probably can't even count the digits.  Use math.log10, or len(str()) to count them.  (Why are these equivalent?)\n",
    "  * For comparison, there are _10⁸⁰_ atoms in the universe."
   ]
  },
  {
   "cell_type": "markdown",
   "metadata": {},
   "source": [
    "* You can also give the module an alias, like so:"
   ]
  },
  {
   "cell_type": "code",
   "execution_count": null,
   "metadata": {
    "collapsed": false
   },
   "outputs": [],
   "source": [
    "import math as m # alias\n",
    "m.pi, m.e"
   ]
  },
  {
   "cell_type": "markdown",
   "metadata": {},
   "source": [
    "Alternately we can import specific functions only:"
   ]
  },
  {
   "cell_type": "code",
   "execution_count": null,
   "metadata": {
    "collapsed": false
   },
   "outputs": [],
   "source": [
    "from math import sqrt, exp\n",
    "\n",
    "sqrt(9), exp(1) # don't need \"math.\""
   ]
  },
  {
   "cell_type": "markdown",
   "metadata": {},
   "source": [
    "### datetime\n",
    "Another useful module is `datetime`: [manual](https://docs.python.org/3.5/library/datetime.html)."
   ]
  },
  {
   "cell_type": "code",
   "execution_count": null,
   "metadata": {
    "collapsed": false
   },
   "outputs": [],
   "source": [
    "import datetime\n",
    "\n",
    "bd = datetime.date(1987, 6, 5)\n",
    "t  = datetime.date.today()\n",
    "\n",
    "print(t - bd)\n",
    "print((t - bd).days/365.2442)\n",
    "print(int((t - bd).days/365.2442))"
   ]
  },
  {
   "cell_type": "markdown",
   "metadata": {},
   "source": [
    "Any new module, etc. that we import, can subsequently included and used as part of a class:"
   ]
  },
  {
   "cell_type": "code",
   "execution_count": null,
   "metadata": {
    "collapsed": false
   },
   "outputs": [],
   "source": [
    "import datetime # import the library we want\n",
    "\n",
    "class person:\n",
    "    \n",
    "    # this is the method used to\n",
    "    # initialize/declare the object.\n",
    "    def __init__(self, birthday):\n",
    "    \n",
    "        # Ensure that the birthday argument\n",
    "        # is actually in the right format.\n",
    "        # We'll talk about this next week\n",
    "        if isinstance(birthday, datetime.date):\n",
    "            self.birthday = birthday\n",
    "        else:\n",
    "            raise TypeError(\"Birthday must be a datettime.date.\")\n",
    "        \n",
    "    def age(self):\n",
    "        \n",
    "        # use the built-in functionality of the imported class\n",
    "        # to extend our own -- no need to do it from scratch.\n",
    "        return int((t - self.birthday).days/365.2442)\n",
    "\n",
    "# a =  person(12) # wrong\n",
    "p = person(datetime.date(2000, 1, 1))\n",
    "p.age()"
   ]
  },
  {
   "cell_type": "markdown",
   "metadata": {},
   "source": [
    "* So, we can _import_ a module, or individual functions or constants _from_ a module.\n",
    "* Other libraries contain entirely new classes.\n",
    "* All of the functions, constants, and classes can be used and included in our own, user-made functions and classes.\n",
    "* The point is, there's tremendous functionality and shortcuts, that **you don't have to write.**  We'll more classes as we continue -- most of our recipes are based on these.\n",
    "* For entirely illustrative purposes, let's consider the `turtle` module."
   ]
  },
  {
   "cell_type": "markdown",
   "metadata": {},
   "source": [
    "## Turtles\n",
    "* Turtles?  Why turtles?\n",
    "* Turtles are an illustrative, fun, simple module for drawing lines.  It is a class that you can extend in lots of beautiful ways.  That's all.\n",
    "* We'll use them to build slightly more complex projects in a visually intuitive (I hope) way.\n",
    "* We'll start now, and you can continue with a spirograph in the homework."
   ]
  },
  {
   "cell_type": "code",
   "execution_count": null,
   "metadata": {
    "collapsed": true
   },
   "outputs": [],
   "source": [
    "import math\n",
    "import turtle "
   ]
  },
  {
   "cell_type": "markdown",
   "metadata": {},
   "source": [
    "Fire up a turtle:"
   ]
  },
  {
   "cell_type": "code",
   "execution_count": null,
   "metadata": {
    "collapsed": false
   },
   "outputs": [],
   "source": [
    "t = turtle.Turtle()"
   ]
  },
  {
   "cell_type": "markdown",
   "metadata": {
    "collapsed": false
   },
   "source": [
    "To first order, turtles can \n",
    "* move `forward()` and `backward()` (aka `fd()` and `bk()`).\n",
    "* they can turn `left()` or `right()` (aka `lt()` and `rt()`).\n",
    "* travel directly to position: `setpos(x, y)`.\n",
    "* report their `pos()`, `heading()` (angle).\n",
    "* you can change their `color()`.\n",
    "* call `begin_fill()` and `end_fill()` to color in the area by the turtle's movements, between the two calls\n",
    "\n",
    "By default, they leave a trace behind them, but you can set `penup()` or `pendown()`.\n",
    "\n",
    "The documentation is [here](https://docs.python.org/3.5/library/turtle.html)."
   ]
  },
  {
   "cell_type": "code",
   "execution_count": null,
   "metadata": {
    "collapsed": false
   },
   "outputs": [],
   "source": [
    "t.color(\"red\")\n",
    "t.fd(100)"
   ]
  },
  {
   "cell_type": "code",
   "execution_count": null,
   "metadata": {
    "collapsed": true
   },
   "outputs": [],
   "source": [
    "t.begin_fill()\n",
    "t.rt(20)\n",
    "t.fd(50)"
   ]
  },
  {
   "cell_type": "code",
   "execution_count": null,
   "metadata": {
    "collapsed": true
   },
   "outputs": [],
   "source": [
    "t.rt(20)\n",
    "t.fd(50)"
   ]
  },
  {
   "cell_type": "code",
   "execution_count": null,
   "metadata": {
    "collapsed": true
   },
   "outputs": [],
   "source": [
    "t.rt(20)\n",
    "t.fd(50)\n",
    "t.end_fill()"
   ]
  },
  {
   "cell_type": "code",
   "execution_count": null,
   "metadata": {
    "collapsed": true
   },
   "outputs": [],
   "source": [
    "t.setpos(0,0)"
   ]
  },
  {
   "cell_type": "markdown",
   "metadata": {},
   "source": [
    "Use the template below to begin a function.  It will grow in complexity, step by step:\n",
    "1. <font color=darkred>**Use fd() and rt() to draw a square, with sides 100 units long.**</font>\n",
    "2. <font color=darkred>**Allow the size to be passed as an additional, _optional_ parameter.**</font>\n",
    "3. <font color=darkred>**Rename the function polygon(), and take the number of sides as an additional parameter.  Calculate the angles in the corners on the fly.**</font>\n",
    "4. <font color=darkred>**Take one more parameter -- a shade of grey.  You can specify this as three numbers (R, G, B) between 0 and 1.  Passing t.color(x, x, x) will give you a grey.**</font>\n",
    "5. <font color=darkred>**Use your shaded polygon function and some for loops to make some turtle art -- something like below.  But let your artsy go -- make something satisfying.**</font>\n",
    "\n",
    "Hints: if you're finding it slow to run the programs, you can set `turtle.tracer(0, 0)` to just print the total thing"
   ]
  },
  {
   "cell_type": "code",
   "execution_count": null,
   "metadata": {
    "collapsed": false
   },
   "outputs": [],
   "source": [
    "#!/usr/bin/env python \n",
    "\n",
    "import math\n",
    "import turtle \n",
    "\n",
    "joe = turtle.Turtle()\n",
    "\n",
    "def square(joe):\n",
    "\n",
    "    # Use a for loop with fd() and lt() or rt(),\n",
    "    # to draw a square.\n",
    "    \n",
    "    pass\n",
    "\n",
    "square(joe)\n",
    "\n",
    "input(\"Hit return to end!\")\n",
    "turtle.bye()"
   ]
  },
  {
   "cell_type": "markdown",
   "metadata": {},
   "source": [
    "A polygon-based answer could look like this:\n",
    "<img src=\"polygon.png\",width=200,height=60>\n",
    "\n",
    "If you're feeling super ambitious, you can just attack this pseudo-triangle based creation!\n",
    "<img src=\"triangle.png\",width=200,height=60>"
   ]
  }
 ],
 "metadata": {
  "anaconda-cloud": {},
  "kernelspec": {
   "display_name": "Python [Root]",
   "language": "python",
   "name": "Python [Root]"
  },
  "language_info": {
   "codemirror_mode": {
    "name": "ipython",
    "version": 3
   },
   "file_extension": ".py",
   "mimetype": "text/x-python",
   "name": "python",
   "nbconvert_exporter": "python",
   "pygments_lexer": "ipython3",
   "version": "3.5.2"
  }
 },
 "nbformat": 4,
 "nbformat_minor": 0
}
