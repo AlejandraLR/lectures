{
 "cells": [
  {
   "cell_type": "markdown",
   "metadata": {
    "deletable": true,
    "editable": true
   },
   "source": [
    "# Simple Census Grab"
   ]
  },
  {
   "cell_type": "markdown",
   "metadata": {
    "deletable": true,
    "editable": true
   },
   "source": [
    "### Load a few packages."
   ]
  },
  {
   "cell_type": "code",
   "execution_count": null,
   "metadata": {
    "collapsed": false,
    "deletable": true,
    "editable": true
   },
   "outputs": [],
   "source": [
    "import os\n",
    "\n",
    "import geopandas as gpd\n",
    "import requests\n",
    "import folium"
   ]
  },
  {
   "cell_type": "markdown",
   "metadata": {
    "deletable": true,
    "editable": true
   },
   "source": [
    "### Get poverty data from the census.\n",
    "See the possible variables, here:\n",
    "http://api.census.gov/data/2014/acs5/variables.html"
   ]
  },
  {
   "cell_type": "code",
   "execution_count": null,
   "metadata": {
    "collapsed": false,
    "deletable": true,
    "editable": true
   },
   "outputs": [],
   "source": [
    "acs  = \"http://api.census.gov/data/2014/acs5?\"\n",
    "resp = requests.get(acs + \"get=NAME,B17020_001E,B17020_002E&for=tract:*&in=state:17+county:*\")\n",
    "json = resp.json()\n",
    "\n",
    "pov_df = gpd.pd.DataFrame(data = json[1:], columns = [\"Name\", \"Population\", \"Poverty\", \"state\", \"county\", \"tract\"])\n",
    "pov_df['rate'] = 100 * pov_df.Poverty.astype(int) / pov_df.Population.astype(int)"
   ]
  },
  {
   "cell_type": "markdown",
   "metadata": {
    "deletable": true,
    "editable": true
   },
   "source": [
    "### Get shapefiles of census tracts."
   ]
  },
  {
   "cell_type": "code",
   "execution_count": null,
   "metadata": {
    "collapsed": false,
    "deletable": true,
    "editable": true
   },
   "outputs": [],
   "source": [
    "# os.system(\"wget http://www2.census.gov/geo/tiger/GENZ2014/shp/cb_2014_17_tract_500k.zip\")\n",
    "# os.system(\"unzip cb_2014_17_tract_500k.zip\")\n",
    "tract_df = gpd.read_file(\"cb_2014_17_tract_500k.shp\")"
   ]
  },
  {
   "cell_type": "markdown",
   "metadata": {
    "deletable": true,
    "editable": true
   },
   "source": [
    "### Merge them together."
   ]
  },
  {
   "cell_type": "code",
   "execution_count": null,
   "metadata": {
    "collapsed": false,
    "deletable": true,
    "editable": true
   },
   "outputs": [],
   "source": [
    "merged_df = tract_df.merge(pov_df, left_on  = [\"STATEFP\", \"COUNTYFP\", \"TRACTCE\"], \n",
    "                                   right_on = [\"state\", \"county\", \"tract\"])"
   ]
  },
  {
   "cell_type": "markdown",
   "metadata": {
    "deletable": true,
    "editable": true
   },
   "source": [
    "### See it."
   ]
  },
  {
   "cell_type": "code",
   "execution_count": null,
   "metadata": {
    "collapsed": false,
    "deletable": true,
    "editable": true
   },
   "outputs": [],
   "source": [
    "m = folium.Map([41.7943,-87.5907], zoom_start = 13, tiles = \"cartodbpositron\", max_zoom = 14, min_zoom = 6, attr = \"\")\n",
    "\n",
    "colormap = folium.LinearColormap((\"orange\", \"white\", \"purple\"), vmin = 0, vmax = 50, caption = \"Percent Poverty\")\n",
    "colormap.add_to(m)\n",
    "\n",
    "folium.GeoJson(merged_df,\n",
    "               style_function = lambda feature: { \n",
    "                  'fillColor': colormap(feature['properties'][\"rate\"]) if feature[\"properties\"][\"rate\"] else \"k\",\n",
    "                  \"color\" : \"k\", \"weight\" : 0.3, \"fillOpacity\" : 0.4 if feature[\"properties\"][\"rate\"] else 0,\n",
    "               }).add_to(m)\n",
    "m"
   ]
  }
 ],
 "metadata": {
  "anaconda-cloud": {},
  "kernelspec": {
   "display_name": "Python [conda root]",
   "language": "python",
   "name": "conda-root-py"
  },
  "language_info": {
   "codemirror_mode": {
    "name": "ipython",
    "version": 3
   },
   "file_extension": ".py",
   "mimetype": "text/x-python",
   "name": "python",
   "nbconvert_exporter": "python",
   "pygments_lexer": "ipython3",
   "version": "3.5.2"
  }
 },
 "nbformat": 4,
 "nbformat_minor": 0
}
