{
 "cells": [
  {
   "cell_type": "markdown",
   "metadata": {},
   "source": [
    "## Exploring the CAJ AER paper."
   ]
  },
  {
   "cell_type": "code",
   "execution_count": 5,
   "metadata": {
    "collapsed": false,
    "deletable": true,
    "editable": true
   },
   "outputs": [],
   "source": [
    "import json, glob\n",
    "from caj_tools import *\n",
    "\n",
    "from IPython.core.interactiveshell import InteractiveShell\n",
    "InteractiveShell.ast_node_interactivity = \"all\""
   ]
  },
  {
   "cell_type": "markdown",
   "metadata": {
    "deletable": true,
    "editable": true
   },
   "source": [
    "### Get all the graphs -- they're all set."
   ]
  },
  {
   "cell_type": "code",
   "execution_count": 2,
   "metadata": {
    "collapsed": false,
    "deletable": true,
    "editable": true
   },
   "outputs": [],
   "source": [
    "graphs = {}\n",
    "for f in glob.glob(\"f*/*.json\"):\n",
    "    with open(f) as i:\n",
    "        graphs[f.replace(\".json\", \"\")] = json.load(i)"
   ]
  },
  {
   "cell_type": "markdown",
   "metadata": {},
   "source": [
    "This is what the graphs look like."
   ]
  },
  {
   "cell_type": "code",
   "execution_count": 3,
   "metadata": {
    "collapsed": false,
    "deletable": true,
    "editable": true
   },
   "outputs": [
    {
     "data": {
      "text/plain": [
       "[{'id': 1, 'nei': [2, 5, 8]},\n",
       " {'id': 2, 'nei': [1, 3, 6]},\n",
       " {'id': 3, 'nei': [2, 4, 7]},\n",
       " {'id': 4, 'nei': [3, 5, 8]},\n",
       " {'id': 5, 'nei': [1, 4, 6]},\n",
       " {'id': 6, 'nei': [2, 5, 7]},\n",
       " {'id': 7, 'nei': [3, 6, 8]},\n",
       " {'id': 8, 'nei': [4, 7, 1]}]"
      ]
     },
     "execution_count": 3,
     "metadata": {},
     "output_type": "execute_result"
    }
   ],
   "source": [
    "graphs[\"f5/a\"]"
   ]
  },
  {
   "cell_type": "markdown",
   "metadata": {
    "deletable": true,
    "editable": true
   },
   "source": [
    "### In Figure 1, agent 1 benefits from agent 3 in the long run (s₁(a) > s₁(b)).  But for s<sub>t-1</sub> = (0, 1, 0) as given, they are anticorrelated."
   ]
  },
  {
   "cell_type": "code",
   "execution_count": 8,
   "metadata": {
    "collapsed": false,
    "deletable": true,
    "editable": true
   },
   "outputs": [],
   "source": [
    "iterate(graphs[\"f1/a\"], N = 20000000)\n",
    "iterate(graphs[\"f1/b\"], N = 20000000)"
   ]
  },
  {
   "cell_type": "code",
   "execution_count": 9,
   "metadata": {
    "collapsed": false,
    "deletable": true,
    "editable": true
   },
   "outputs": [
    {
     "data": {
      "text/plain": [
       "0.07870845000000004"
      ]
     },
     "execution_count": 9,
     "metadata": {},
     "output_type": "execute_result"
    },
    {
     "data": {
      "text/plain": [
       "0.07842784999999997"
      ]
     },
     "execution_count": 9,
     "metadata": {},
     "output_type": "execute_result"
    }
   ],
   "source": [
    "unemployment(graphs[\"f1/a\"][0][\"hist\"])\n",
    "unemployment(graphs[\"f1/b\"][0][\"hist\"])"
   ]
  },
  {
   "cell_type": "code",
   "execution_count": 10,
   "metadata": {
    "collapsed": false,
    "deletable": true,
    "editable": true
   },
   "outputs": [
    {
     "data": {
      "text/plain": [
       "-0.013624084186525979"
      ]
     },
     "execution_count": 10,
     "metadata": {},
     "output_type": "execute_result"
    }
   ],
   "source": [
    "s1_hist = graphs[\"f1/a\"][0][\"hist\"]\n",
    "s2_hist = graphs[\"f1/a\"][1][\"hist\"]\n",
    "s3_hist = graphs[\"f1/a\"][2][\"hist\"]\n",
    "\n",
    "s1_cond = [x for xi, x in enumerate(graphs[\"f1/a\"][0][\"hist\"])\n",
    "           if xi and s1_hist[xi-1] == 0 and s2_hist[xi-1] == 1 and s3_hist[xi-1] == 0]\n",
    "\n",
    "s3_cond = [x for xi, x in enumerate(graphs[\"f1/a\"][2][\"hist\"])\n",
    "           if xi and s1_hist[xi-1] == 0 and s2_hist[xi-1] == 1 and s3_hist[xi-1] == 0]\n",
    "\n",
    "correlation(s1_cond, s3_cond)"
   ]
  },
  {
   "cell_type": "markdown",
   "metadata": {
    "deletable": true,
    "editable": true
   },
   "source": [
    "### In Figure 2 A-D, the employment rates are 0.132, 0.083, 0.063, and 0.050."
   ]
  },
  {
   "cell_type": "code",
   "execution_count": 11,
   "metadata": {
    "collapsed": true,
    "deletable": true,
    "editable": true
   },
   "outputs": [],
   "source": [
    "iterate(graphs[\"f2/a\"], N = 10000000)\n",
    "iterate(graphs[\"f2/b\"], N = 10000000)\n",
    "iterate(graphs[\"f2/c\"], N = 10000000)\n",
    "iterate(graphs[\"f2/d\"], N = 10000000)"
   ]
  },
  {
   "cell_type": "code",
   "execution_count": 12,
   "metadata": {
    "collapsed": false,
    "deletable": true,
    "editable": true
   },
   "outputs": [
    {
     "data": {
      "text/plain": [
       "0.1324147"
      ]
     },
     "execution_count": 12,
     "metadata": {},
     "output_type": "execute_result"
    },
    {
     "data": {
      "text/plain": [
       "0.07893640000000002"
      ]
     },
     "execution_count": 12,
     "metadata": {},
     "output_type": "execute_result"
    },
    {
     "data": {
      "text/plain": [
       "0.05666009999999999"
      ]
     },
     "execution_count": 12,
     "metadata": {},
     "output_type": "execute_result"
    },
    {
     "data": {
      "text/plain": [
       "0.0464232"
      ]
     },
     "execution_count": 12,
     "metadata": {},
     "output_type": "execute_result"
    }
   ],
   "source": [
    "unemployment(graphs[\"f2/a\"][0][\"hist\"])\n",
    "unemployment(graphs[\"f2/b\"][0][\"hist\"])\n",
    "unemployment(graphs[\"f2/c\"][0][\"hist\"])\n",
    "unemployment(graphs[\"f2/d\"][0][\"hist\"])"
   ]
  },
  {
   "cell_type": "markdown",
   "metadata": {
    "deletable": true,
    "editable": true
   },
   "source": [
    "No, but their footnotes 8 and 9 are not encouraging:\n",
    "\n",
    "_The numbers for more than one agent are obtained from simulations in Maple􏰥. We simulate the economy over a large number of periods (hundreds of thousands) and calculate observed unemployment averages and correlations. The programs are available upon request from the authors. The correlation numbers are only moderately accurate, even after several hundred thousand periods._\n",
    "\n",
    "_In some cases, the correlations are indistinguishable to the accuracy of our simulations._\n",
    "\n",
    "If I use as few iterations, I can reproduce their numbers."
   ]
  },
  {
   "cell_type": "markdown",
   "metadata": {
    "deletable": true,
    "editable": true
   },
   "source": [
    "### The Corr(s₁ s₂) are --, 0.041, 0.025, and 0.025."
   ]
  },
  {
   "cell_type": "code",
   "execution_count": 13,
   "metadata": {
    "collapsed": false,
    "deletable": true,
    "editable": true
   },
   "outputs": [
    {
     "data": {
      "text/plain": [
       "0.0012435095464074816"
      ]
     },
     "execution_count": 13,
     "metadata": {},
     "output_type": "execute_result"
    },
    {
     "data": {
      "text/plain": [
       "0.051988558283715895"
      ]
     },
     "execution_count": 13,
     "metadata": {},
     "output_type": "execute_result"
    },
    {
     "data": {
      "text/plain": [
       "0.02077987511936461"
      ]
     },
     "execution_count": 13,
     "metadata": {},
     "output_type": "execute_result"
    },
    {
     "data": {
      "text/plain": [
       "0.029593582870619525"
      ]
     },
     "execution_count": 13,
     "metadata": {},
     "output_type": "execute_result"
    }
   ],
   "source": [
    "correlation(graphs[\"f2/a\"][0][\"hist\"], graphs[\"f2/a\"][1][\"hist\"])\n",
    "correlation(graphs[\"f2/b\"][0][\"hist\"], graphs[\"f2/b\"][1][\"hist\"])\n",
    "correlation(graphs[\"f2/c\"][0][\"hist\"], graphs[\"f2/c\"][1][\"hist\"])\n",
    "correlation(graphs[\"f2/d\"][0][\"hist\"], graphs[\"f2/d\"][1][\"hist\"])"
   ]
  },
  {
   "cell_type": "markdown",
   "metadata": {
    "deletable": true,
    "editable": true
   },
   "source": [
    "### Figure 4: The employment rates for types 1, 2, and 3 are 0.047, 0.048, and 0.050."
   ]
  },
  {
   "cell_type": "code",
   "execution_count": 14,
   "metadata": {
    "collapsed": false,
    "deletable": true,
    "editable": true
   },
   "outputs": [
    {
     "name": "stdout",
     "output_type": "stream",
     "text": [
      "1 :: 0.0454\n",
      "2 :: 0.0458\n",
      "3 :: 0.0457\n",
      "4 :: 0.0459\n",
      "5 :: 0.0457\n",
      "6 :: 0.0449\n",
      "7 :: 0.0459\n",
      "8 :: 0.0460\n",
      "9 :: 0.0461\n",
      "10 :: 0.0456\n"
     ]
    },
    {
     "data": {
      "text/plain": [
       "0.04518354999999996"
      ]
     },
     "execution_count": 14,
     "metadata": {},
     "output_type": "execute_result"
    },
    {
     "data": {
      "text/plain": [
       "0.045746449999999966"
      ]
     },
     "execution_count": 14,
     "metadata": {},
     "output_type": "execute_result"
    },
    {
     "data": {
      "text/plain": [
       "0.045919975"
      ]
     },
     "execution_count": 14,
     "metadata": {},
     "output_type": "execute_result"
    }
   ],
   "source": [
    "iterate(graphs[\"f4/a\"], N = 10000000)\n",
    "\n",
    "unemp_rates = {}\n",
    "for node in range(10):\n",
    "    unemp_rates[node+1] = unemployment(graphs[\"f4/a\"][node][\"hist\"])\n",
    "    print(\"{:d} :: {:.4f}\".format(node+1, unemp_rates[node+1]))\n",
    "\n",
    "(unemp_rates[1] + unemp_rates[6])/2\n",
    "(unemp_rates[2] + unemp_rates[5] + unemp_rates[7] + unemp_rates[10])/4\n",
    "(unemp_rates[3] + unemp_rates[4] + unemp_rates[8] + unemp_rates[9]) /4"
   ]
  },
  {
   "cell_type": "markdown",
   "metadata": {
    "deletable": true,
    "editable": true
   },
   "source": [
    "### The average path length matters for unemployment\n",
    "\n",
    "We can get the path lengths right, but the employment rates are slightly lower than they quote, and only very slightly different."
   ]
  },
  {
   "cell_type": "code",
   "execution_count": 15,
   "metadata": {
    "collapsed": false,
    "deletable": true,
    "editable": true
   },
   "outputs": [
    {
     "data": {
      "text/plain": [
       "(1.5714285714285714, 1.7857142857142856)"
      ]
     },
     "execution_count": 15,
     "metadata": {},
     "output_type": "execute_result"
    }
   ],
   "source": [
    "avg_path_length(graphs[\"f5/a\"]), avg_path_length(graphs[\"f5/b\"])"
   ]
  },
  {
   "cell_type": "code",
   "execution_count": 16,
   "metadata": {
    "collapsed": false,
    "deletable": true,
    "editable": true
   },
   "outputs": [
    {
     "data": {
      "text/plain": [
       "0.04539747500000001"
      ]
     },
     "execution_count": 16,
     "metadata": {},
     "output_type": "execute_result"
    },
    {
     "data": {
      "text/plain": [
       "0.04580232499999998"
      ]
     },
     "execution_count": 16,
     "metadata": {},
     "output_type": "execute_result"
    }
   ],
   "source": [
    "iterate(graphs[\"f5/a\"], N = 5000000)\n",
    "iterate(graphs[\"f5/b\"], N = 5000000)\n",
    "\n",
    "sum([unemployment(graphs[\"f5/a\"][n][\"hist\"]) for n in range(8)])/8\n",
    "sum([unemployment(graphs[\"f5/b\"][n][\"hist\"]) for n in range(8)])/8"
   ]
  },
  {
   "cell_type": "markdown",
   "metadata": {
    "deletable": true,
    "editable": true
   },
   "source": [
    "### §III, Fig. 6: for connected agents, expectations of next-round employment fall with length of unemployment duration, because duration is indicative of peers current status."
   ]
  },
  {
   "cell_type": "code",
   "execution_count": 17,
   "metadata": {
    "collapsed": false,
    "deletable": true,
    "editable": true
   },
   "outputs": [
    {
     "data": {
      "text/plain": [
       "0.17536903127074455"
      ]
     },
     "execution_count": 17,
     "metadata": {},
     "output_type": "execute_result"
    },
    {
     "data": {
      "text/plain": [
       "0.17407294748776372"
      ]
     },
     "execution_count": 17,
     "metadata": {},
     "output_type": "execute_result"
    },
    {
     "data": {
      "text/plain": [
       "0.1667168447990366"
      ]
     },
     "execution_count": 17,
     "metadata": {},
     "output_type": "execute_result"
    },
    {
     "data": {
      "text/plain": [
       "0.1675246856274791"
      ]
     },
     "execution_count": 17,
     "metadata": {},
     "output_type": "execute_result"
    },
    {
     "data": {
      "text/plain": [
       "0.30654069516965654"
      ]
     },
     "execution_count": 17,
     "metadata": {},
     "output_type": "execute_result"
    },
    {
     "data": {
      "text/plain": [
       "0.30072439007722274"
      ]
     },
     "execution_count": 17,
     "metadata": {},
     "output_type": "execute_result"
    },
    {
     "data": {
      "text/plain": [
       "0.27892108824490175"
      ]
     },
     "execution_count": 17,
     "metadata": {},
     "output_type": "execute_result"
    },
    {
     "data": {
      "text/plain": [
       "0.253475935828877"
      ]
     },
     "execution_count": 17,
     "metadata": {},
     "output_type": "execute_result"
    }
   ],
   "source": [
    "def conditional_prob_periods(hist, periods):\n",
    "    \n",
    "    cond = []\n",
    "    for xi in range(periods, len(hist)):\n",
    "        if not any([hist[xpi] for xpi in range(xi-periods, xi)]):\n",
    "            cond.append(hist[xi])\n",
    "            \n",
    "    return sum(cond)/len(cond)\n",
    "\n",
    "conditional_prob_periods(graphs[\"f2/b\"][0][\"hist\"], 1)\n",
    "conditional_prob_periods(graphs[\"f2/b\"][0][\"hist\"], 2)\n",
    "conditional_prob_periods(graphs[\"f2/b\"][0][\"hist\"], 10)\n",
    "conditional_prob_periods(graphs[\"f2/b\"][0][\"hist\"], 20)\n",
    "\n",
    "conditional_prob_periods(graphs[\"f2/d\"][0][\"hist\"], 1)\n",
    "conditional_prob_periods(graphs[\"f2/d\"][0][\"hist\"], 2)\n",
    "conditional_prob_periods(graphs[\"f2/d\"][0][\"hist\"], 10)\n",
    "conditional_prob_periods(graphs[\"f2/d\"][0][\"hist\"], 20)"
   ]
  },
  {
   "cell_type": "code",
   "execution_count": null,
   "metadata": {
    "collapsed": true,
    "deletable": true,
    "editable": true
   },
   "outputs": [],
   "source": []
  }
 ],
 "metadata": {
  "anaconda-cloud": {},
  "kernelspec": {
   "display_name": "Python [conda root]",
   "language": "python",
   "name": "conda-root-py"
  },
  "language_info": {
   "codemirror_mode": {
    "name": "ipython",
    "version": 3
   },
   "file_extension": ".py",
   "mimetype": "text/x-python",
   "name": "python",
   "nbconvert_exporter": "python",
   "pygments_lexer": "ipython3",
   "version": "3.5.3"
  }
 },
 "nbformat": 4,
 "nbformat_minor": 2
}
